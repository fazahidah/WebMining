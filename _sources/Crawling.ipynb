{
 "cells": [
  {
   "cell_type": "markdown",
   "metadata": {},
   "source": [
    "# Crawling Data\n",
    "\n",
    "Crawling adalah sebuah proses di mana mesin pencarian seperti Google dapat mencari dan memindai konten yang berada di situs web berupa artikel, lembar produk, gambar, link, dll. Mesin pencarian menggunakan alat yang disebut sebagai crawler (juga disebut sebagai bot atau spider) untuk memutuskan situs web mana yang akan dipindai."
   ]
  },
  {
   "cell_type": "markdown",
   "metadata": {},
   "source": [
    "## Import Library"
   ]
  },
  {
   "cell_type": "code",
   "execution_count": null,
   "metadata": {},
   "outputs": [],
   "source": [
    "import scrapy\n",
    "from bs4 import BeautifulSoup\n",
    "from scrapy.selector import Selector\n",
    "from scrapy.http.request import Request\n",
    "from tempo.items import TempoItem"
   ]
  },
  {
   "cell_type": "markdown",
   "metadata": {},
   "source": [
    "## Code"
   ]
  },
  {
   "cell_type": "code",
   "execution_count": null,
   "metadata": {},
   "outputs": [],
   "source": [
    "class VivaSpider(scrapy.Spider):\n",
    "    name = \"tempo\"\n",
    "    allowed_domains = [\"tempo.co\"]\n",
    "    start_urls = [\n",
    "        \"https://www.tempo.co/indeks\",\n",
    "    ]\n",
    "\n",
    "    def parse(self, response):\n",
    "        \"\"\" This function parses a property page.\n",
    "\n",
    "        @url https://www.tempo.co/indeks\n",
    "        @returns items\n",
    "        \"\"\"\n",
    "\n",
    "        indeks = Selector(response).xpath('//ul[@class=\"wrapper\"]/li')\n",
    "\n",
    "        for indek in indeks:\n",
    "            item = TempoItem()\n",
    "            news_link = indek.xpath('div/div/a[2]/@href').extract_first()\n",
    "            item['judul'] = indek.xpath('div/div/a[2]/h2/text()').extract_first()\n",
    "            item['tanggal'] = indek.xpath('div/div/a[2]/span/text()').extract_first()\n",
    "            detail_request = Request(news_link, callback=self.parse_detail)\n",
    "            detail_request.meta['item'] = item\n",
    "            yield detail_request\n",
    "    \n",
    "    def parse_detail(self, response):\n",
    "        print(\"Crawling detail news\")\n",
    "        item = response.meta['item']\n",
    "        selector = Selector(response)\n",
    "        description = selector.xpath('//article').extract_first()\n",
    "        item['deskripsi'] = BeautifulSoup(description).text\n",
    "        return item"
   ]
  },
  {
   "cell_type": "markdown",
   "metadata": {},
   "source": [
    "There is a lot more that you can do with outputs (such as including interactive outputs)\n",
    "with your book. For more information about this, see [the Jupyter Book documentation](https://jupyterbook.org)"
   ]
  }
 ],
 "metadata": {
  "kernelspec": {
   "display_name": "Python 3",
   "language": "python",
   "name": "python3"
  },
  "language_info": {
   "codemirror_mode": {
    "name": "ipython",
    "version": 3
   },
   "file_extension": ".py",
   "mimetype": "text/x-python",
   "name": "python",
   "nbconvert_exporter": "python",
   "pygments_lexer": "ipython3",
   "version": "3.8.0"
  },
  "widgets": {
   "application/vnd.jupyter.widget-state+json": {
    "state": {},
    "version_major": 2,
    "version_minor": 0
   }
  }
 },
 "nbformat": 4,
 "nbformat_minor": 4
}