{
 "cells": [
  {
   "cell_type": "markdown",
   "metadata": {},
   "source": [
    "# Preprocessing Data\n",
    "\n",
    "Data preprocessing adalah proses yang mengubah data mentah ke dalam bentuk yang lebih mudah dipahami. Proses ini penting dilakukan karena data mentah sering kali tidak memiliki format yang teratur. Selain itu, data mining juga tidak dapat memproses data mentah, sehingga proses ini sangat penting dilakukan untuk mempermudah proses berikutnya, yakni analisis data.\n"
   ]
  },
  {
   "cell_type": "markdown",
   "id": "96c020d3",
   "metadata": {},
   "source": [
    "## Import Library"
   ]
  },
  {
   "cell_type": "code",
   "execution_count": 289,
   "id": "b6669bb2",
   "metadata": {},
   "outputs": [],
   "source": [
    "import pandas as pd\n",
    "import numpy as np\n",
    "import string\n",
    "import re #regrex libray\n",
    "import nltk\n",
    "import swifter\n",
    "import Sastrawi\n",
    "import networkx as nx\n",
    "\n",
    "from nltk.tokenize import word_tokenize\n",
    "from nltk.tokenize.punkt import PunktSentenceTokenizer\n",
    "from nltk.corpus import stopwords\n",
    "from Sastrawi.Stemmer.StemmerFactory import StemmerFactory\n",
    "from nltk.probability import FreqDist\n",
    "from sklearn.feature_extraction.text import TfidfTransformer, CountVectorizer"
   ]
  },
  {
   "cell_type": "markdown",
   "id": "205dda63",
   "metadata": {},
   "source": [
    "## Load Dataset"
   ]
  },
  {
   "cell_type": "code",
   "execution_count": 304,
   "id": "2c0ef2b6",
   "metadata": {},
   "outputs": [
    {
     "output_type": "execute_result",
     "data": {
      "text/plain": "                                           deskripsi  \\\n0  \\n\\r\\n\\t\\t\\t\\t\\t\\t\\tInggris Larang Impor Produ...   \n1  \\n\\n\\nTempo.co\\nRamadan\\n\\n\\n\\n\\nTak Hanya Ind...   \n2  \\n\\r\\n\\t\\t\\t\\t\\t\\t\\tTumbuh 40,1 Persen, Amar B...   \n3  \\n\\r\\n\\t\\t\\t\\t\\t\\t\\tKiat Menjaga Kesehatan Hat...   \n4  \\n\\r\\n\\t\\t\\t\\t\\t\\t\\tPesenam Kelahiran New York...   \n\n                                               judul                  tanggal  \n0  Inggris Larang Impor Produk Kesehatan Xinjiang...  23 April 2022 02:28 WIB  \n1  Tak Hanya Indonesia, 5 Negara Ini Memiliki Tra...  23 April 2022 02:38 WIB  \n2  Tumbuh 40,1 Persen, Amar Bank Salurkan Pinjama...  23 April 2022 04:39 WIB  \n3                        Kiat Menjaga Kesehatan Hati  23 April 2022 04:36 WIB  \n4  Pesenam Kelahiran New York Tetap Tak Boleh Ber...  23 April 2022 04:36 WIB  ",
      "text/html": "<div>\n<style scoped>\n    .dataframe tbody tr th:only-of-type {\n        vertical-align: middle;\n    }\n\n    .dataframe tbody tr th {\n        vertical-align: top;\n    }\n\n    .dataframe thead th {\n        text-align: right;\n    }\n</style>\n<table border=\"1\" class=\"dataframe\">\n  <thead>\n    <tr style=\"text-align: right;\">\n      <th></th>\n      <th>deskripsi</th>\n      <th>judul</th>\n      <th>tanggal</th>\n    </tr>\n  </thead>\n  <tbody>\n    <tr>\n      <th>0</th>\n      <td>\\n\\r\\n\\t\\t\\t\\t\\t\\t\\tInggris Larang Impor Produ...</td>\n      <td>Inggris Larang Impor Produk Kesehatan Xinjiang...</td>\n      <td>23 April 2022 02:28 WIB</td>\n    </tr>\n    <tr>\n      <th>1</th>\n      <td>\\n\\n\\nTempo.co\\nRamadan\\n\\n\\n\\n\\nTak Hanya Ind...</td>\n      <td>Tak Hanya Indonesia, 5 Negara Ini Memiliki Tra...</td>\n      <td>23 April 2022 02:38 WIB</td>\n    </tr>\n    <tr>\n      <th>2</th>\n      <td>\\n\\r\\n\\t\\t\\t\\t\\t\\t\\tTumbuh 40,1 Persen, Amar B...</td>\n      <td>Tumbuh 40,1 Persen, Amar Bank Salurkan Pinjama...</td>\n      <td>23 April 2022 04:39 WIB</td>\n    </tr>\n    <tr>\n      <th>3</th>\n      <td>\\n\\r\\n\\t\\t\\t\\t\\t\\t\\tKiat Menjaga Kesehatan Hat...</td>\n      <td>Kiat Menjaga Kesehatan Hati</td>\n      <td>23 April 2022 04:36 WIB</td>\n    </tr>\n    <tr>\n      <th>4</th>\n      <td>\\n\\r\\n\\t\\t\\t\\t\\t\\t\\tPesenam Kelahiran New York...</td>\n      <td>Pesenam Kelahiran New York Tetap Tak Boleh Ber...</td>\n      <td>23 April 2022 04:36 WIB</td>\n    </tr>\n  </tbody>\n</table>\n</div>"
     },
     "metadata": {},
     "execution_count": 304
    }
   ],
   "source": [
    "data_berita = pd.read_csv('beritatempo.csv')\n",
    "data_berita.head()"
   ]
  },
  {
   "cell_type": "markdown",
   "id": "dcd7a628",
   "metadata": {},
   "source": [
    "## Case Folding"
   ]
  },
  {
   "cell_type": "code",
   "execution_count": 305,
   "id": "449b1906",
   "metadata": {
    "tags": []
   },
   "outputs": [
    {
     "output_type": "stream",
     "name": "stdout",
     "text": "Case Folding Result : \n\n0     \\n\\r\\n\\t\\t\\t\\t\\t\\t\\tinggris larang impor produ...\n1     \\n\\n\\ntempo.co\\nramadan\\n\\n\\n\\n\\ntak hanya ind...\n2     \\n\\r\\n\\t\\t\\t\\t\\t\\t\\ttumbuh 40,1 persen, amar b...\n3     \\n\\r\\n\\t\\t\\t\\t\\t\\t\\tkiat menjaga kesehatan hat...\n4     \\n\\r\\n\\t\\t\\t\\t\\t\\t\\tpesenam kelahiran new york...\n5     \\n\\r\\n\\t\\t\\t\\t\\t\\t\\tbursa transfer liga 1: ran...\n6     \\n\\r\\n\\t\\t\\t\\t\\t\\t\\tsiaran tv analog dihentika...\n7     \\n\\r\\n\\t\\t\\t\\t\\t\\t\\tkualifikasi formula 1 emil...\n8     \\n\\r\\n\\t\\t\\t\\t\\t\\t\\tbursa transfer liga 1: psi...\n9     \\n\\r\\n\\t\\t\\t\\t\\t\\t\\tgempa terkini di sulawesi ...\n10    \\n\\r\\n\\t\\t\\t\\t\\t\\t\\ttop 3 dunia: sekjen pbb in...\n11    \\n\\r\\n\\t\\t\\t\\t\\t\\t\\tskuter listrik yamaha e01 ...\n12    \\n\\r\\n\\t\\t\\t\\t\\t\\t\\tmudik lebaran, waspada ker...\n13    \\n\\r\\n\\t\\t\\t\\t\\t\\t\\tterpopuler bisnis: rincian...\n14    \\n\\r\\n\\t\\t\\t\\t\\t\\t\\tprakiraan cuaca bmkg, anti...\n15    \\n\\r\\n\\t\\t\\t\\t\\t\\t\\tjadwal bola sabtu malam 23...\n16    \\n\\r\\n\\t\\t\\t\\t\\t\\t\\tdengan aplikasi ini, siswa...\n17    \\n\\r\\n\\t\\t\\t\\t\\t\\t\\tzendaya absen di met gala ...\n18    \\n\\r\\n\\t\\t\\t\\t\\t\\t\\tramalan cuaca: sebagian be...\n19    \\n\\r\\n\\t\\t\\t\\t\\t\\t\\tpembatasan halal bihalal l...\nName: deskripsi, dtype: object\n\n\n\n\n"
    }
   ],
   "source": [
    "# ------ Case Folding --------\n",
    "# gunakan fungsi Series.str.lower() pada Pandas\n",
    "data_berita['deskripsi'] = data_berita['deskripsi'].str.lower()\n",
    "\n",
    "\n",
    "print('Case Folding Result : \\n')\n",
    "print(data_berita['deskripsi'].head(20))\n",
    "print('\\n\\n\\n')"
   ]
  },
  {
   "cell_type": "markdown",
   "id": "b728553b",
   "metadata": {},
   "source": [
    "## Tokenizing"
   ]
  },
  {
   "cell_type": "code",
   "execution_count": 306,
   "id": "b5894ad6",
   "metadata": {
    "tags": []
   },
   "outputs": [
    {
     "output_type": "stream",
     "name": "stdout",
     "text": "Tokenizing Result : \n\n0     [inggris, larang, impor, produk, kesehatan, xi...\n1     [tempoco, ramadan, tak, hanya, indonesia, nega...\n2     [tumbuh, persen, amar, bank, salurkan, pinjama...\n3     [kiat, menjaga, kesehatan, hati, reporter, bis...\n4     [pesenam, kelahiran, new, york, tetap, tak, bo...\n5     [bursa, transfer, liga, rans, cilegon, fc, kem...\n6     [siaran, tv, analog, dihentikan, april, kominf...\n7     [kualifikasi, formula, emilia, romagna, versta...\n8     [bursa, transfer, liga, psis, semarang, dapatk...\n9     [gempa, terkini, di, sulawesi, tengah, giliran...\n10    [top, dunia, sekjen, pbb, ingin, ketemu, presi...\n11    [skuter, listrik, yamaha, tak, pakai, baterai,...\n12    [mudik, lebaran, waspada, kerawanan, di, jalur...\n13    [terpopuler, bisnis, rincian, aset, ketua, bpk...\n14    [prakiraan, cuaca, bmkg, antisipasi, hujan, da...\n15    [jadwal, bola, sabtu, malam, april, berpeluang...\n16    [dengan, aplikasi, ini, siswa, mau, ujian, bis...\n17    [zendaya, absen, di, met, gala, dua, tahun, be...\n18    [ramalan, cuaca, sebagian, besar, jakarta, aka...\n19    [pembatasan, halal, bihalal, lebaran, terbit, ...\nName: deskripsi_tokens, dtype: object\n\n\n\n\n[nltk_data] Downloading package punkt to\n[nltk_data]     C:\\Users\\Fatin\\AppData\\Roaming\\nltk_data...\n[nltk_data]   Package punkt is already up-to-date!\n"
    }
   ],
   "source": [
    "import string \n",
    "import re #regex library\n",
    "\n",
    "# import word_tokenize & FreqDist from NLTK\n",
    "nltk.download('punkt')\n",
    "from nltk import sent_tokenize\n",
    "from nltk.tokenize import word_tokenize \n",
    "from nltk.probability import FreqDist\n",
    "\n",
    "# ------ Tokenizing ---------\n",
    "\n",
    "def remove_tweet_special(text):\n",
    "    # remove tab, new line, ans back slice\n",
    "    text = text.replace('\\\\t',\" \").replace('\\\\n',\" \").replace('\\\\u',\" \").replace('\\\\',\"\")\n",
    "    # remove non ASCII (emoticon, chinese word, .etc)\n",
    "    text = text.encode('ascii', 'replace').decode('ascii')\n",
    "    # remove mention, link, hashtag\n",
    "    text = ' '.join(re.sub(\"([@#][A-Za-z0-9]+)|(\\w+:\\/\\/\\S+)\",\" \", text).split())\n",
    "    # remove incomplete URL\n",
    "    return text.replace(\"http://\", \" \").replace(\"https://\", \" \")\n",
    "                \n",
    "data_berita['deskripsi'] = data_berita['deskripsi'].apply(remove_tweet_special)\n",
    "\n",
    "#remove number\n",
    "def remove_number(text):\n",
    "    return  re.sub(r\"\\d+\", \"\", text)\n",
    "\n",
    "data_berita['deskripsi'] = data_berita['deskripsi'].apply(remove_number)\n",
    "\n",
    "#remove punctuation\n",
    "def remove_punctuation(text):\n",
    "    return text.translate(str.maketrans(\"\",\"\",string.punctuation))\n",
    "\n",
    "data_berita['deskripsi'] = data_berita['deskripsi'].apply(remove_punctuation)\n",
    "\n",
    "#remove whitespace leading & trailing\n",
    "def remove_whitespace_LT(text):\n",
    "    return text.strip()\n",
    "\n",
    "data_berita['deskripsi'] = data_berita['deskripsi'].apply(remove_whitespace_LT)\n",
    "\n",
    "#remove multiple whitespace into single whitespace\n",
    "def remove_whitespace_multiple(text):\n",
    "    return re.sub('\\s+',' ',text)\n",
    "\n",
    "data_berita['deskripsi'] = data_berita['deskripsi'].apply(remove_whitespace_multiple)\n",
    "\n",
    "# remove single char\n",
    "def remove_singl_char(text):\n",
    "    return re.sub(r\"\\b[a-zA-Z]\\b\", \"\", text)\n",
    "\n",
    "data_berita['deskripsi'] = data_berita['deskripsi'].apply(remove_singl_char)\n",
    "\n",
    "# NLTK word rokenize \n",
    "def word_tokenize_wrapper(text):\n",
    "    return word_tokenize(text)\n",
    "\n",
    "data_berita['deskripsi_tokens'] = data_berita['deskripsi'].apply(word_tokenize_wrapper)\n",
    "\n",
    "print('Tokenizing Result : \\n') \n",
    "print(data_berita['deskripsi_tokens'].head(20))\n",
    "print('\\n\\n\\n')"
   ]
  },
  {
   "cell_type": "markdown",
   "id": "b5036a5b",
   "metadata": {},
   "source": [
    "## Menghitung Frekuensi Distribusi Token"
   ]
  },
  {
   "cell_type": "code",
   "execution_count": 307,
   "id": "d2318a10",
   "metadata": {
    "tags": []
   },
   "outputs": [
    {
     "output_type": "stream",
     "name": "stdout",
     "text": "Frequency Tokens : \n\n0     [(di, 10), (yang, 10), (dan, 9), (inggris, 6),...\n1     [(mudik, 18), (di, 18), (tradisi, 11), (yang, ...\n2     [(amar, 11), (bank, 11), (pinjaman, 9), (yang,...\n3     [(hati, 22), (yang, 19), (dan, 16), (untuk, 9)...\n4     [(tidak, 19), (sea, 14), (games, 13), (di, 10)...\n5     [(pemain, 15), (fc, 8), (rans, 6), (cilegon, 6...\n6     [(di, 8), (tahap, 6), (siaran, 5), (tv, 5), (a...\n7     [(di, 13), (yang, 11), (dan, 11), (untuk, 9), ...\n8     [(psis, 11), (fajar, 7), (liga, 6), (pemain, 6...\n9     [(gempa, 11), (yang, 8), (terkini, 6), (di, 6)...\n10    [(di, 28), (yang, 14), (ukraina, 13), (dan, 11...\n11    [(baterai, 13), (listrik, 8), (motor, 8), (yan...\n12    [(jalur, 23), (yogyakarta, 19), (dan, 15), (di...\n13    [(bpk, 5), (berita, 4), (ketua, 3), (bank, 3),...\n14    [(di, 14), (dan, 10), (hujan, 7), (hingga, 6),...\n15    [(vs, 22), (wib, 18), (liga, 14), (akan, 10), ...\n16    [(bisa, 8), (pengajar, 8), (yang, 7), (platfor...\n17    [(dan, 13), (di, 11), (dengan, 11), (akan, 9),...\n18    [(jakarta, 25), (akan, 22), (hujan, 22), (puku...\n19    [(halal, 8), (bihalal, 8), (yang, 5), (edaran,...\nName: deskripsi_tokens_fdist, dtype: object\n"
    }
   ],
   "source": [
    "# NLTK calc frequency distribution\n",
    "def freqDist_wrapper(text):\n",
    "    return FreqDist(text)\n",
    "\n",
    "data_berita['deskripsi_tokens_fdist'] = data_berita['deskripsi_tokens'].apply(freqDist_wrapper)\n",
    "\n",
    "print('Frequency Tokens : \\n') \n",
    "print(data_berita['deskripsi_tokens_fdist'].head(20).apply(lambda x : x.most_common()))"
   ]
  },
  {
   "cell_type": "markdown",
   "id": "fa77b94c",
   "metadata": {},
   "source": [
    "## Filtering (Stopword Removal)"
   ]
  },
  {
   "cell_type": "code",
   "execution_count": 308,
   "id": "5354eade",
   "metadata": {
    "tags": []
   },
   "outputs": [
    {
     "output_type": "stream",
     "name": "stdout",
     "text": "0     [inggris, larang, impor, produk, kesehatan, xi...\n1     [tempoco, ramadan, indonesia, negara, memiliki...\n2     [tumbuh, persen, amar, bank, salurkan, pinjama...\n3     [kiat, menjaga, kesehatan, hati, reporter, bis...\n4     [pesenam, kelahiran, new, york, berangkat, man...\n5     [bursa, transfer, liga, rans, cilegon, fc, dap...\n6     [siaran, tv, analog, dihentikan, april, kominf...\n7     [kualifikasi, formula, emilia, romagna, versta...\n8     [bursa, transfer, liga, psis, semarang, dapatk...\n9     [gempa, terkini, sulawesi, giliran, morowali, ...\n10    [top, dunia, sekjen, pbb, ketemu, presiden, pu...\n11    [skuter, listrik, yamaha, pakai, baterai, swap...\n12    [mudik, lebaran, waspada, kerawanan, jalur, ma...\n13    [terpopuler, bisnis, rincian, aset, ketua, bpk...\n14    [prakiraan, cuaca, bmkg, antisipasi, hujan, pe...\n15    [jadwal, bola, sabtu, malam, april, berpeluang...\n16    [aplikasi, siswa, ujian, ajari, dosen, profeso...\n17    [zendaya, absen, met, gala, berturutturut, rep...\n18    [ramalan, cuaca, jakarta, diguyur, hujan, pagi...\n19    [pembatasan, halal, bihalal, lebaran, terbit, ...\nName: deskripsi_tokens_WSW, dtype: object\n[nltk_data] Downloading package stopwords to\n[nltk_data]     C:\\Users\\Fatin\\AppData\\Roaming\\nltk_data...\n[nltk_data]   Package stopwords is already up-to-date!\n"
    }
   ],
   "source": [
    "nltk.download('stopwords')\n",
    "\n",
    "# ----------------------- get stopword from NLTK stopword -------------------------------\n",
    "# get stopword indonesia\n",
    "list_stopwords = stopwords.words('indonesian')\n",
    "\n",
    "\n",
    "# ---------------------------- manualy add stopword  ------------------------------------\n",
    "# append additional stopword\n",
    "list_stopwords.extend([\"yg\", \"dg\", \"rt\", \"dgn\", \"ny\", \"d\", 'klo', \n",
    "                       'kalo', 'amp', 'biar', 'bikin', 'bilang', \n",
    "                       'gak', 'ga', 'krn', 'nya', 'nih', 'sih', \n",
    "                       'si', 'tau', 'tdk', 'tuh', 'utk', 'ya', \n",
    "                       'jd', 'jgn', 'sdh', 'aja', 'n', 't', \n",
    "                       'nyg', 'hehe', 'pen', 'u', 'nan', 'loh', 'rt',\n",
    "                       '&amp', 'yah'])\n",
    "\n",
    "# ----------------------- add stopword from txt file ------------------------------------\n",
    "# read txt stopword using pandas\n",
    "txt_stopword = pd.read_csv(\"beritatempo.csv\", names= [\"stopwords\"], header = None)\n",
    "\n",
    "# convert stopword string to list & append additional stopword\n",
    "list_stopwords.extend(txt_stopword[\"stopwords\"][0].split(' '))\n",
    "\n",
    "# ---------------------------------------------------------------------------------------\n",
    "\n",
    "# convert list to dictionary\n",
    "list_stopwords = set(list_stopwords)\n",
    "\n",
    "\n",
    "#remove stopword pada list token\n",
    "def stopwords_removal(words):\n",
    "    return [word for word in words if word not in list_stopwords]\n",
    "\n",
    "data_berita['deskripsi_tokens_WSW'] = data_berita['deskripsi_tokens'].apply(stopwords_removal) \n",
    "\n",
    "\n",
    "print(data_berita['deskripsi_tokens_WSW'].head(20))"
   ]
  },
  {
   "cell_type": "markdown",
   "id": "913a9cdb",
   "metadata": {},
   "source": [
    "## Normalization"
   ]
  },
  {
   "cell_type": "code",
   "execution_count": 309,
   "id": "6ee05c81",
   "metadata": {},
   "outputs": [
    {
     "output_type": "execute_result",
     "data": {
      "text/plain": "0     [inggris, larang, impor, produk, kesehatan, xi...\n1     [tempoco, ramadan, indonesia, negara, memiliki...\n2     [tumbuh, persen, amar, bank, salurkan, pinjama...\n3     [kiat, menjaga, kesehatan, hati, reporter, bis...\n4     [pesenam, kelahiran, new, york, berangkat, man...\n5     [bursa, transfer, liga, rans, cilegon, fc, dap...\n6     [siaran, tv, analog, dihentikan, april, kominf...\n7     [kualifikasi, formula, emilia, romagna, versta...\n8     [bursa, transfer, liga, psis, semarang, dapatk...\n9     [gempa, terkini, sulawesi, giliran, morowali, ...\n10    [top, dunia, sekjen, pbb, ketemu, presiden, pu...\n11    [skuter, listrik, yamaha, pakai, baterai, swap...\n12    [mudik, lebaran, waspada, kerawanan, jalur, ma...\n13    [terpopuler, bisnis, rincian, aset, ketua, bpk...\n14    [prakiraan, cuaca, bmkg, antisipasi, hujan, pe...\n15    [jadwal, bola, sabtu, malam, april, berpeluang...\n16    [aplikasi, siswa, ujian, ajari, dosen, profeso...\n17    [zendaya, absen, met, gala, berturutturut, rep...\n18    [ramalan, cuaca, jakarta, diguyur, hujan, pagi...\n19    [pembatasan, halal, bihalal, lebaran, terbit, ...\nName: deskripsi_normalized, dtype: object"
     },
     "metadata": {},
     "execution_count": 309
    }
   ],
   "source": [
    "normalizad_word = pd.read_csv(\"beritatempo.csv\")\n",
    "\n",
    "normalizad_word_dict = {}\n",
    "\n",
    "for index, row in normalizad_word.iterrows():\n",
    "    if row[0] not in normalizad_word_dict:\n",
    "        normalizad_word_dict[row[0]] = row[1] \n",
    "\n",
    "def normalized_term(document):\n",
    "    return [normalizad_word_dict[term] if term in normalizad_word_dict else term for term in document]\n",
    "\n",
    "data_berita['deskripsi_normalized'] = data_berita['deskripsi_tokens_WSW'].apply(normalized_term)\n",
    "\n",
    "data_berita['deskripsi_normalized'].head(20)"
   ]
  },
  {
   "cell_type": "markdown",
   "id": "0eb23492",
   "metadata": {},
   "source": [
    "## Stemming"
   ]
  },
  {
   "cell_type": "code",
   "execution_count": 310,
   "id": "ad76fc38",
   "metadata": {
    "tags": [
     "outputPrepend"
    ]
   },
   "outputs": [
    {
     "output_type": "stream",
     "name": "stdout",
     "text": "strikdistrik', 'berhasil': 'hasil', 'memangkas': 'mangkas', 'penularan': 'tular', 'nol': 'nol', 'pasalnya': 'pasal', 'area': 'area', 'karantina': 'karantina', 'lagiotoritas': 'lagiotoritas', 'distrik': 'distrik', 'jingan': 'jingan', 'penduduk': 'duduk', 'mengizinkan': 'izin', 'penduduknya': 'duduk', 'kompleks': 'kompleks', 'perumahan': 'rumah', 'menghindari': 'hindar', 'kegiatan': 'giat', 'berkerumum': 'berkerumum', 'chongming': 'chongming', 'terletak': 'letak', 'terpencilpada': 'terpencilpada', 'konferensi': 'konferensi', 'reguler': 'reguler', 'wakil': 'wakil', 'gubernur': 'gubernur', 'melaporkan': 'lapor', 'ribu': 'ribu', 'semestinya': 'mesti', 'meninggalkan': 'tinggal', 'merekawakil': 'merekawakil', 'zhang': 'zhang', 'zhitong': 'zhitong', 'supermarket': 'supermarket', 'tutup': 'tutup', 'beroperasi': 'operasi', 'tangga': 'tangga', 'chongmingbaca': 'chongmingbaca', 'siniselaluupdateinfo': 'siniselaluupdateinfo', 'skuter': 'skuter', 'listrik': 'listrik', 'yamaha': 'yamaha', 'pakai': 'pakai', 'baterai': 'baterai', 'swap': 'swap', 'alasannya': 'alas', 'dicky': 'dicky', 'jobpie': 'jobpie', 'sugiharto': 'sugiharto', 'tempodicky': 'tempodicky', 'motor': 'motor', 'manufacturing': 'manufacturing', 'yimm': 'yimm', 'uji': 'uji', 'coba': 'coba', 'pasar': 'pasar', 'terbarunya': 'baru', 'dibekali': 'bekal', 'fixed': 'fixed', 'pengisian': 'isi', 'baterainya': 'baterai', 'ditukar': 'tukar', 'model': 'model', 'pluginmenurut': 'pluginmenurut', 'director': 'director', 'coo': 'coo', 'dyonisius': 'dyonisius', 'beti': 'beti', 'fixedyamahaedipilih': 'fixedyamahaedipilih', 'jangkauan': 'jangkau', 'swapfixed': 'swapfixed', 'battery': 'battery', 'jarak': 'jarak', 'tempuhnya': 'tempuh', 'jaminan': 'jamin', 'kondisinya': 'kondisi', 'kemampuannya': 'mampu', 'bergantung': 'gantung', 'global': 'global', 'press': 'press', 'conference': 'conference', 'company': 'company', 'proof': 'proof', 'concept': 'concept', 'poc': 'poc', 'planner': 'planner', 'companyyasushi': 'companyyasushi', 'nomuramengatakan': 'nomuramengatakan', 'kombinasi': 'kombinasi', 'optimal': 'optimal', 'tentangjarak': 'tentangjarak', 'tempuh': 'tempuh', 'metode': 'metode', 'yamahaemenurut': 'yamahaemenurut', 'engineer': 'engineer', 'project': 'project', 'leader': 'leader', 'ymc': 'ymc', 'takuya': 'takuya', 'maruo': 'maruo', 'kecepatan': 'cepat', 'jam': 'jam', 'tipe': 'tipe', 'pengisiannya': 'isi', 'plugin': 'plugin', 'swapteknologi': 'swapteknologi', 'mengeluarkan': 'keluar', 'maksimum': 'maksimum', 'hp': 'hp', 'rpm': 'rpm', 'torsi': 'torsi', 'nm': 'nm', 'rpmyamaha': 'rpmyamaha', 'opsi': 'opsi', 'daya': 'daya', 'pengisi': 'isi', 'cepat': 'cepat', 'mengisi': 'isi', 'output': 'output', 'volt': 'volt', 'jamterakhir': 'jamterakhir', 'portabel': 'portabel', 'kompatibel': 'kompatibel', 'stop': 'stop', 'kontak': 'kontak', 'jamsecara': 'jamsecara', 'disimpan': 'simpan', 'kursi': 'kursi', 'jok': 'jok', 'fleksibel': 'fleksibel', 'yamahae': 'yamahae', 'mengasumsikan': 'asumsi', 'harian': 'hari', 'kilometerbacaskuter': 'kilometerbacaskuter', 'listrikyamaha': 'listrikyamaha', 'emulai': 'emulai', 'diuji': 'uji', 'jepangingin': 'jepangingin', 'berdiskusi': 'diskus', 'redaksi': 'redaksi', 'artikel': 'artikel', 'mari': 'mari', 'telegramgooto': 'telegramgooto', 'waspada': 'waspada', 'kerawanan': 'rawan', 'jalur': 'jalur', 'wicaksono': 'wicaksono', 'kontributor': 'kontributor', 'rini': 'rini', 'kustiani': 'kustiani', 'yogya': 'yogya', 'solo': 'solo', 'mall': 'mall', 'ambarrukmo': 'ambarrukmo', 'padat': 'padat', 'merayap': 'rayap', 'liburan': 'libur', 'lengang': 'lengang', 'selasa': 'selasa', 'desember': 'desember', 'istimewa': 'istimewa', 'diy': 'diy', 'wisatawan': 'wisatawan', 'mewaspadai': 'waspada', 'rawan': 'rawan', 'direktur': 'direktur', 'lintas': 'lintas', 'komisaris': 'komisaris', 'iwan': 'iwan', 'saktiadi': 'saktiadi', 'diwapasdaipertama': 'diwapasdaipertama', 'akses': 'akses', 'magelang': 'magelang', 'tempel': 'tempel', 'sleman': 'sleman', 'ring': 'ring', 'road': 'road', 'karakteristik': 'karakteristik', 'turn': 'turn', 'penggalan': 'penggal', 'lebar': 'lebar', 'devider': 'devider', 'beton': 'beton', 'lintasnya': 'lintas', 'tingginya': 'tinggi', 'angka': 'angka', 'kecelakaankedua': 'kecelakaankedua', 'timur': 'timur', 'prambanan': 'prambanan', 'simpang': 'simpang', 'proliman': 'proliman', 'maguwoharjo': 'maguwoharjo', 'menghubungkan': 'hubung', 'purworejo': 'purworejo', 'klaten': 'klaten', 'temon': 'ton', 'wates': 'wates', 'kulon': 'kulon', 'progo': 'progo', 'gamping': 'gamping', 'jalurnya': 'jalur', 'tumpah': 'tumpah', 'diakeempat': 'diakeempat', 'wonosari': 'wonosari', 'playen': 'playen', 'patuk': 'patuk', 'piyungan': 'piyungan', 'ditambah': 'tambah', 'berkelok': 'kelok', 'naikturun': 'naikturun', 'diaselain': 'diaselain', 'alternatif': 'alternatif', 'melewati': 'lewat', 'turi': 'turi', 'pakem': 'pakem', 'ngemplak': 'ngemplak', 'kalasan': 'kalas', 'peemukiman': 'peemukiman', 'minim': 'minim', 'penerangan': 'terang', 'malam': 'malam', 'katanyalalu': 'katanyalalu', 'sedayu': 'dayu', 'ditempuh': 'tempuh', 'pajangan': 'pajang', 'pandak': 'pandak', 'bantul': 'bantul', 'kerawanannya': 'rawan', 'jalankepala': 'jalankepala', 'humas': 'humas', 'yuliyanto': 'yuliyanto', 'mendirikan': 'diri', 'pos': 'pos', 'pengaman': 'kam', 'pelayanan': 'layan', 'operasi': 'operasi', 'ketupat': 'ketupat', 'personel': 'personel', 'terlibat': 'libat', 'rinciannya': 'rinciannya', 'instansi': 'instansi', 'lainnyakepala': 'lainnyakepala', 'inspektur': 'inspektur', 'jenderal': 'jenderal', 'asep': 'asep', 'suhendar': 'suhendar', 'pengamanan': 'aman', 'ldul': 'ldul', 'berfokus': 'fokus', 'sarana': 'sarana', 'vital': 'vital', 'ibadah': 'ibadah', 'destinasi': 'destinasi', 'wisata': 'wisata', 'perbelanjaan': 'belanja', 'terminal': 'terminal', 'lainnyaasep': 'lainnyaasep', 'libur': 'libur', 'covidbaca': 'covidbaca', 'jugayogyakarta': 'jugayogyakarta', 'macet': 'macet', 'mencegahnyaselaluupdateinfo': 'mencegahnyaselaluupdateinfo', 'kliktempoco': 'kliktempoco', 'updateuntuk': 'updateuntuk', 'lebihdulu': 'lebihdulu', 'terpopuler': 'populer', 'rincian': 'rincian', 'aset': 'aset', 'bpk': 'bpk', 'kantor': 'kantor', 'ditutup': 'tutup', 'isma': 'isma', 'yatun': 'yatun', 'dok': 'dok', 'kekayaanisma': 'kekayaanisma', 'danrencana': 'danrencana', 'penutupan': 'tutup', 'persero': 'persero', 'tbkdi': 'tbkdi', 'tanah': 'tanah', 'airkemudian': 'airkemudian', 'sri': 'sri', 'sultan': 'sultan', 'hamengkubuwono': 'hamengkubuwono', 'penetapan': 'tetap', 'tersangka': 'sangka', 'dugaan': 'duga', 'korupsi': 'korupsi', 'ekspor': 'ekspor', 'cpo': 'cpo', 'turunannya': 'turun', 'berujung': 'ujung', 'kelangkaan': 'langka', 'minyak': 'minyak', 'goreng': 'goreng', 'airselain': 'airselain', 'satuan': 'satu', 'tugas': 'tugas', 'penanganan': 'tangan', 'syarat': 'syarat', 'aturan': 'atur', 'terbaru': 'baru', 'calon': 'calon', 'pelaku': 'laku', 'ppdn': 'ppdn', 'prakiraan': 'prakira', 'cuaca': 'cuaca', 'antisipasi': 'antisipasi', 'petir': 'petir', 'maria': 'maria', 'fransisca': 'fransisca', 'lahur': 'lahur', 'awan': 'awan', 'mendungcuaca': 'mendungcuaca', 'buruk': 'buruk', 'tempoaditia': 'tempoaditia', 'noviansyah': 'noviansyah', 'memprediksi': 'prediksi', 'kotaakan': 'kotaakan', 'disertai': 'serta', 'adalahbengkulu': 'adalahbengkulu', 'surabaya': 'surabaya', 'pontianakmataram': 'pontianakmataram', 'mamujusedangkan': 'mamujusedangkan', 'prediksi': 'prediksi', 'berlaku': 'laku', 'tanjung': 'tanjung', 'pinang': 'pinang', 'medan': 'medan', 'ringan': 'ringan', 'luas': 'luas', 'banda': 'banda', 'aceh': 'aceh', 'denpasar': 'denpasar', 'gorontalo': 'gorontalo', 'jambi': 'jambi', 'bandung': 'bandung', 'banjarmasin': 'banjarmasin', 'palangkaraya': 'palangkaraya', 'samarinda': 'samarinda', 'pangkal': 'pangkal', 'bandar': 'bandar', 'ambon': 'ambon', 'ternate': 'ternate', 'manokwari': 'manokwari', 'pekanbaru': 'pekanbaru', 'padang': 'padang', 'palembangmenurut': 'palembangmenurut', 'suhu': 'suhu', 'udara': 'udara', 'berkisar': 'kisar', 'derajatcelsius': 'derajatcelsius', 'suhuyang': 'suhuyang', 'terendah': 'rendah', 'terukur': 'ukur', 'tertinggi': 'tinggi', 'banjarmasincuaca': 'banjarmasincuaca', 'dipengaruhi': 'pengaruh', 'bibit': 'bibit', 'siklon': 'siklon', 'tropis': 'tropis', 'terpantau': 'pantau', 'samudera': 'samudera', 'hindia': 'hindia', 'sebelah': 'belah', 'banten': 'banten', 'pertamamenginduksi': 'pertamamenginduksi', 'angin': 'angin', 'low': 'low', 'level': 'level', 'jet': 'jet', 'knot': 'knot', 'memanjang': 'panjang', 'samudra': 'samudra', 'baratbengkulu': 'baratbengkulu', 'teluk': 'teluk', 'carpentaria': 'carpentaria', 'yangmembentuk': 'yangmembentuk', 'konvergensi': 'konvergensi', 'australia': 'australia', 'sirkulasi': 'sirkulasi', 'siklonik': 'siklonik', 'malukudaerah': 'malukudaerah', 'pasifik': 'pasifik', 'halmahera': 'halmahera', 'potensi': 'potensi', 'pertumbuhan': 'tumbuh', 'ketinggian': 'tinggi', 'gelombang': 'gelombang', 'sekitarnyabaca': 'sekitarnyabaca', 'jugamusim': 'jugamusim', 'alami': 'alami', 'perpanjangan': 'panjang', 'lebihselaluupdateinfo': 'lebihselaluupdateinfo', 'jadwal': 'jadwal', 'hadirkan': 'hadir', 'reutersmike': 'reutersmike', 'hewitt': 'hewitt', 'ahad': 'ahad', 'menampilkan': 'tampil', 'rangkaian': 'rangkai', 'pertandingan': 'tanding', 'prancis': 'prancis', 'jerman': 'jerman', 'copa': 'copa', 'del': 'del', 'rey': 'rey', 'gelar': 'gelar', 'dipertaruhkanliga': 'dipertaruhkanliga', 'brentford': 'brentford', 'vs': 'vs', 'tottenham': 'tottenham', 'hotspurs': 'hotspurs', 'live': 'live', 'sctv': 'sctv', 'arsenal': 'arsenal', 'manchester': 'manchester', 'city': 'city', 'watford': 'watford', 'leicester': 'leicester', 'aston': 'aston', 'villabelum': 'villabelum', 'penentuan': 'tentu', 'nilai': 'nilai', 'laga': 'laga', 'liverpoolm': 'liverpoolm', 'bermain': 'main', 'everton': 'everton', 'malamdi': 'malamdi', 'naun': 'naun', 'menarik': 'tarik', 'disiarkan': 'siar', 'mnctv': 'mnctv', 'inter': 'inter', 'milan': 'mil', 'as': 'as', 'roma': 'roma', 'tersaji': 'saji', 'teratas': 'atas', 'bayern': 'bayern', 'munchen': 'munchen', 'borussia': 'borussia', 'dortmund': 'dortmund', 'berhadapan': 'hadap', 'tersisa': 'sisa', 'sembilan': 'sembilan', 'memenangi': 'tang', 'inidi': 'inidi', 'psg': 'psg', 'membutuhkan': 'butuh', 'seri': 'seri', 'lenspenentuan': 'lenspenentuan', 'piala': 'piala', 'raja': 'raja', 'spanyol': 'spanyol', 'real': 'real', 'betis': 'betis', 'valencia': 'valencia', 'bertemu': 'temu', 'finaljadwal': 'finaljadwal', 'selengkapnyasabtu': 'selengkapnyasabtu', 'inggrispekan': 'inggrispekan', 'mola': 'mola', 'villa': 'villa', 'norwich': 'norwich', 'newcastle': 'newcastle', 'sctvliga': 'sctvliga', 'italiapekan': 'italiapekan', 'bein': 'bein', 'sports': 'sports', 'venezia': 'venezia', 'atalanta': 'atalanta', 'torino': 'torino', 'spezia': 'spezia', 'mnctvliga': 'mnctvliga', 'eintracht': 'eintracht', 'frankfurt': 'frankfurt', 'hoffenheim': 'hoffenheim', 'greuther': 'greuther', 'furth': 'furth', 'bayer': 'bayer', 'leverkusen': 'leverkusen', 'rb': 'rb', 'leipzig': 'leipzig', 'union': 'union', 'berlin': 'lin', 'freiburg': 'freiburg', 'monchengladbach': 'monchengladbach', 'koln': 'koln', 'arminia': 'arminia', 'bielefeld': 'bielefeld', 'tvoneahad': 'tvoneahad', 'hellas': 'hellas', 'verona': 'verona', 'sampdorialiga': 'sampdorialiga', 'prancispekan': 'prancispekan', 'lens': 'lens', 'rcticopa': 'rcticopa', 'reyfinal': 'reyfinal', 'sportselanjutnya': 'sportselanjutnya', 'langsung': 'langsung', 'aplikasi': 'aplikasi', 'siswa': 'siswa', 'ujian': 'uji', 'ajari': 'ajar', 'dosen': 'dosen', 'profesor': 'profesor', 'mengajar': 'ajar', 'shutterstockcom': 'shutterstockcom', 'startupdi': 'startupdi', 'apabilamemiliki': 'apabilamemiliki', 'kesulitan': 'sulit', 'belajar': 'ajar', 'menempuh': 'tempuh', 'dengankalangan': 'dengankalangan', 'aplikasibernamaujiajacomitu': 'aplikasibernamaujiajacomitu', 'sambilan': 'sambil', 'bergelar': 'gelar', 'guru': 'guru', 'les': 'les', 'ceoujiajacom': 'ceoujiajacom', 'zabina': 'zabina', 'asfahanizabinasaat': 'asfahanizabinasaat', 'semester': 'semester', 'fakultas': 'fakultas', 'teknik': 'teknik', 'universitas': 'universitas', 'gadjah': 'gadjah', 'mada': 'mada', 'ugm': 'ugm', 'diakses': 'akses', 'playstore': 'playstore', 'website': 'website', 'fiturtryout': 'fiturtryout', 'privatcara': 'privatcara', 'kerjanya': 'kerja', 'diyakinizabina': 'diyakinizabina', 'pengajar': 'ajar', 'mendaftar': 'daftar', 'soalsoal': 'soalsoal', 'tryout': 'tryout', 'privat': 'privat', 'kebutuhannya': 'butuh', 'platformbisa': 'platformbisa', 'menjembatani': 'jembatan', 'memaksimalkan': 'maksimal', 'repot': 'repot', 'tatap': 'tatap', 'muka': 'muka', 'beda': 'beda', 'darikebanyakan': 'darikebanyakan', 'sejenis': 'jenis', 'diujiajacompengajar': 'diujiajacompengajar', 'membatasi': 'batas', 'latar': 'latar', 'belakangkalau': 'belakangkalau', 'disediakan': 'sedia', 'buatannya': 'buat', 'mahasiswameski': 'mahasiswameski', 'begituzabina': 'begituzabina', 'menmbahkandi': 'menmbahkandi', 'ujiajacommenerapkan': 'ujiajacommenerapkan', 'levelfee': 'levelfee', 'bayarannya': 'bayar', 'diadari': 'adar', 'pengelola': 'kelola', 'membayar': 'bayar', 'terbangnyazabina': 'terbangnyazabina', 'layaknya': 'layak', 'ojek': 'ojek', 'mengatur': 'atur', 'pelangganmenggunakan': 'pelangganmenggunakan', 'antarjemput': 'antarjemput', 'pesanannya': 'pesan', 'diujiajacomsiswa': 'diujiajacomsiswa', 'pengguna': 'guna', 'pilihannyabaca': 'pilihannyabaca', 'jugadi': 'jugadi', 'sekolah': 'sekolah', 'vokasi': 'vokasi', 'dirjen': 'dirjen', 'pendaftar': 'daftar', 'buka': 'buka', 'dselaluupdateinfo': 'dselaluupdateinfo', 'zendaya': 'zendaya', 'absen': 'absen', 'met': 'met', 'gala': 'gala', 'berturutturut': 'berturutturut', 'mila': 'mila', 'novita': 'novita', 'berpose': 'pose', 'menghadiri': 'hadir', 'acara': 'acara', 'oscar': 'oscar', 'hollywood': 'hollywood', 'los': 'los', 'angeles': 'angeles', 'maret': 'maret', 'minimalis': 'minimal', 'rambutnya': 'rambut', 'menariknya': 'tarik', 'detail': 'detail', 'ansambelnya': 'ansambel', 'ramping': 'ramping', 'glamor': 'glamor', 'reuterseric': 'reuterseric', 'gaillard': 'gaillard', 'metgala': 'metgala', 'aktris': 'aktris', 'euphoria': 'euphoria', 'melewatkan': 'lewat', 'pesta': 'pesta', 'fashion': 'fashion', 'bekerjasaya': 'bekerjasaya', 'benci': 'benci', 'mengecewakan': 'kecewa', 'penggemar': 'gemar', 'wawancara': 'wawancara', 'extra': 'extra', 'gadismu': 'gadis', 'film': 'film', 'berharap': 'harap', 'orangdia': 'orangdia', 'hadir': 'hadir', 'kapanini': 'kapanini', 'menandai': 'tanda', 'amal': 'amal', 'mode': 'mode', 'jadwalnya': 'jadwal', 'bentrok': 'bentrok', 'produksi': 'produksi', 'hbo': 'hbo', 'hitsnya': 'hitsnya', 'sayangnya': 'sayang', 'euphoriamet': 'euphoriamet', 'mei': 'mei', 'metropolitan': 'metropolitan', 'museum': 'museum', 'arts': 'arts', 'diadakan': 'ada', 'senin': 'senin', 'septembertema': 'septembertema', 'in': 'in', 'america': 'america', 'anthology': 'anthology', 'dress': 'dress', 'code': 'code', 'berlapis': 'lap', 'dasi': 'dasi', 'putih': 'putih', 'terinspirasi': 'inspirasi', 'periode': 'periode', 'tamu': 'tamu', 'mewujudkan': 'wujud', 'kejayaan': 'jaya', 'gilded': 'gilded', 'age': 'age', 'vogue': 'vogue', 'pasangan': 'pasang', 'blake': 'blake', 'lively': 'lively', 'ryan': 'ryan', 'reynolds': 'reynolds', 'cochair': 'cochair', 'pemenang': 'menang', 'regina': 'regina', 'king': 'king', 'superstar': 'superstar', 'broadway': 'broadway', 'linmanuel': 'linmanuel', 'mirandaera': 'mirandaera', 'industrialisasi': 'industrialisasi', 'melahirkan': 'lahir', 'orangorang': 'orangorang', 'john': 'john', 'rockefeller': 'rockefeller', 'jp': 'jp', 'morgan': 'morgan', 'cornelius': 'cornelius', 'vanderbilt': 'vanderbilt', 'kemakmuran': 'makmur', 'budaya': 'budaya', 'lampu': 'lampu', 'dipatenkan': 'paten', 'telepon': 'telepon', 'ditemukan': 'temu', 'upah': 'upah', 'meroket': 'roket', 'pencakar': 'cakar', 'langit': 'langit', 'kekayaanmelayani': 'kekayaanmelayani', 'lexicon': 'lexicon', 'penghormatan': 'hormat', 'sejarah': 'sejarah', 'pameran': 'pamer', 'dipajang': 'pajang', 'ruang': 'ruang', 'bertingkatmet': 'bertingkatmet', 'dibatalkan': 'batal', 'pandemi': 'pandemi', 'menghiasi': 'hias', 'karpet': 'karpet', 'gaun': 'gaun', 'cinderella': 'cinderella', 'the': 'the', 'greatest': 'greatest', 'showman': 'showman', 'bertabur': 'tabur', 'bintang': 'bintang', 'tommy': 'tommy', 'hilfiger': 'hilfiger', 'korset': 'korset', 'hitam': 'hitam', 'biru': 'biru', 'lengan': 'lengan', 'pouffy': 'pouffy', 'rok': 'rok', 'berkat': 'berkat', 'bantuan': 'bantu', 'perinya': 'peri', 'stylist': 'stylist', 'law': 'law', 'roach': 'roach', 'lambaian': 'lambai', 'tongkat': 'tongkat', 'sihirnya': 'sihir', 'pakaiannya': 'pakai', 'menyalabaca': 'menyalabaca', 'jugazendaya': 'jugazendaya', 'chic': 'chic', 'bergaya': 'gaya', 'monokrom': 'monokrom', 'setelan': 'setel', 'abuabuselaluupdateinfo': 'abuabuselaluupdateinfo', 'simakbreakingnewsdan': 'simakbreakingnewsdan', 'perlumenginstallaplikasi': 'perlumenginstallaplikasi', 'ramalan': 'ramal', 'diguyur': 'guyur', 'yudha': 'yudha', 'saputra': 'saputra', 'ahmad': 'ahmad', 'faiz': 'faiz', 'ibnu': 'ibnu', 'sani': 'sani', 'takjil': 'takjil', 'gratis': 'gratis', 'cempaka': 'cempaka', 'xxi': 'xxi', 'mengguyur': 'guyur', 'menghalangi': 'halang', 'mengantre': 'antre', 'fathurrahman': 'fathurrahman', 'siang': 'siang', 'cerah': 'cerah', 'berawan': 'awan', 'inibmkg': 'inibmkg', 'memprakirakan': 'prakira', 'kepulauan': 'pulau', 'seribu': 'ribu', 'kelapa': 'kelapa', 'gading': 'gading', 'penjaringan': 'jaring', 'diramalkan': 'ramal', 'soreuntuk': 'soreuntuk', 'jakut': 'jakut', 'kep': 'kep', 'didominasi': 'dominasi', 'pagimalam': 'pagimalam', 'siangsore': 'siangsore', 'cuit': 'cuit', 'twitter': 'twitter', 'penjarian': 'jari', 'setelahnya': 'telah', 'ratarata': 'ratarata', 'derajat': 'derajat', 'celsius': 'celsius', 'kelembaban': 'kelembaban', 'diprakirakan': 'prakira', 'kmjam': 'kmjam', 'kecamatan': 'camat', 'sawah': 'sawah', 'diprediksi': 'prediksi', 'wibuntuk': 'wibuntuk', 'jakpus': 'jakpus', 'jakbar': 'jakbar', 'jaksel': 'jaksel', 'jaktim': 'jaktim', 'pagisore': 'pagisore', 'ringanhujan': 'ringanhujan', 'bmkgselain': 'bmkgselain', 'abang': 'abang', 'cengkareng': 'cengkareng', 'kalideres': 'kalideres', 'kebon': 'kebon', 'jeruk': 'jeruk', 'kembangan': 'kembang', 'palmerah': 'palmerah', 'selebihnya': 'lebih', 'wibwilayah': 'wibwilayah', 'wilayahnya': 'wilayah', 'berlanjut': 'lanjut', 'kecuali': 'kecuali', 'setia': 'setia', 'budi': 'budi', 'wibsementara': 'wibsementara', 'hukan': 'hukan', 'cakung': 'cakung', 'matraman': 'matraman', 'pulogadung': 'pulogadung', 'melanda': 'landa', 'cipayung': 'cipayung', 'ciracas': 'ciracas', 'kramat': 'kramat', 'jati': 'jati', 'makasar': 'makasar', 'rebo': 'rebo', 'diramal': 'ramal', 'wibbaca': 'wibbaca', 'jugamobil': 'jugamobil', 'terperosok': 'perosok', 'sungai': 'sungai', 'depok': 'depok', 'petugas': 'tugas', 'tergenang': 'genang', 'banjir': 'banjir', 'halal': 'halal', 'bihalal': 'bihalal', 'terbit': 'terbit', 'makanmakan': 'makanmakan', 'dewi': 'dewi', 'nurita': 'nurita', 'syailendra': 'syailendra', 'persada': 'persada', 'halalbihalal': 'halalbihalal', 'kerabat': 'kerabat', 'rawa': 'rawa', 'bambu': 'bambu', 'bekasi': 'bekas', 'antaradhemas': 'antaradhemas', 'reviyanto': 'reviyanto', 'tito': 'tito', 'karnavian': 'karnavian', 'menerbitkan': 'terbit', 'edaran': 'edar', 'sj': 'sj', 'pelaksanaan': 'laksana', 'hijriah': 'hijriah', 'diteken': 'teken', 'bupati': 'bupati', 'wali': 'wali', 'indonesiadalam': 'indonesiadalam', 'disesuaikan': 'sesuai', 'ppkm': 'ppkm', 'kapasitas': 'kapasitas', 'kategori': 'kategori', 'makananminuman': 'makananminuman', 'kemasan': 'kemas', 'dibawa': 'bawa', 'diperbolehkan': 'boleh', 'disajikan': 'saji', 'prasmanan': 'prasmanan', 'salinan': 'salin', 'tersebutmeski': 'tersebutmeski', 'dibolehkan': 'boleh', 'mendagri': 'mendagri', 'mengimbau': 'imbau', 'protokol': 'protokol', 'sekurangkurangnya': 'sekurangkurangnya', 'memakai': 'pakai', 'masker': 'masker', 'mencuci': 'cuci', 'tangan': 'tangan', 'berkala': 'kala', 'dihindari': 'hindar', 'ramai': 'ramai', 'peserta': 'serta', 'membuka': 'buka'}\n------------------------\n"
    },
    {
     "output_type": "error",
     "ename": "AttributeError",
     "evalue": "'Series' object has no attribute '_is_builtin_func'",
     "traceback": [
      "\u001b[1;31m---------------------------------------------------------------------------\u001b[0m",
      "\u001b[1;31mTypeError\u001b[0m                                 Traceback (most recent call last)",
      "\u001b[1;32m~\\AppData\\Local\\Programs\\Python\\Python39\\lib\\site-packages\\swifter\\swifter.py\u001b[0m in \u001b[0;36mapply\u001b[1;34m(self, func, convert_dtype, args, **kwds)\u001b[0m\n\u001b[0;32m    238\u001b[0m             \u001b[1;32mwith\u001b[0m \u001b[0msuppress_stdout_stderr_logging\u001b[0m\u001b[1;33m(\u001b[0m\u001b[1;33m)\u001b[0m\u001b[1;33m:\u001b[0m\u001b[1;33m\u001b[0m\u001b[1;33m\u001b[0m\u001b[0m\n\u001b[1;32m--> 239\u001b[1;33m                 \u001b[0mtmp_df\u001b[0m \u001b[1;33m=\u001b[0m \u001b[0mfunc\u001b[0m\u001b[1;33m(\u001b[0m\u001b[0msample\u001b[0m\u001b[1;33m,\u001b[0m \u001b[1;33m*\u001b[0m\u001b[0margs\u001b[0m\u001b[1;33m,\u001b[0m \u001b[1;33m**\u001b[0m\u001b[0mkwds\u001b[0m\u001b[1;33m)\u001b[0m\u001b[1;33m\u001b[0m\u001b[1;33m\u001b[0m\u001b[0m\n\u001b[0m\u001b[0;32m    240\u001b[0m                 \u001b[0msample_df\u001b[0m \u001b[1;33m=\u001b[0m \u001b[0msample\u001b[0m\u001b[1;33m.\u001b[0m\u001b[0mapply\u001b[0m\u001b[1;33m(\u001b[0m\u001b[0mfunc\u001b[0m\u001b[1;33m,\u001b[0m \u001b[0mconvert_dtype\u001b[0m\u001b[1;33m=\u001b[0m\u001b[0mconvert_dtype\u001b[0m\u001b[1;33m,\u001b[0m \u001b[0margs\u001b[0m\u001b[1;33m=\u001b[0m\u001b[0margs\u001b[0m\u001b[1;33m,\u001b[0m \u001b[1;33m**\u001b[0m\u001b[0mkwds\u001b[0m\u001b[1;33m)\u001b[0m\u001b[1;33m\u001b[0m\u001b[1;33m\u001b[0m\u001b[0m\n",
      "\u001b[1;32m~\\AppData\\Local\\Temp/ipykernel_24272/3556183788.py\u001b[0m in \u001b[0;36mget_stemmed_term\u001b[1;34m(document)\u001b[0m\n\u001b[0;32m     35\u001b[0m \u001b[1;32mdef\u001b[0m \u001b[0mget_stemmed_term\u001b[0m\u001b[1;33m(\u001b[0m\u001b[0mdocument\u001b[0m\u001b[1;33m)\u001b[0m\u001b[1;33m:\u001b[0m\u001b[1;33m\u001b[0m\u001b[1;33m\u001b[0m\u001b[0m\n\u001b[1;32m---> 36\u001b[1;33m     \u001b[1;32mreturn\u001b[0m \u001b[1;33m[\u001b[0m\u001b[0mterm_dict\u001b[0m\u001b[1;33m[\u001b[0m\u001b[0mterm\u001b[0m\u001b[1;33m]\u001b[0m \u001b[1;32mfor\u001b[0m \u001b[0mterm\u001b[0m \u001b[1;32min\u001b[0m \u001b[0mdocument\u001b[0m\u001b[1;33m]\u001b[0m\u001b[1;33m\u001b[0m\u001b[1;33m\u001b[0m\u001b[0m\n\u001b[0m\u001b[0;32m     37\u001b[0m \u001b[1;33m\u001b[0m\u001b[0m\n",
      "\u001b[1;32m~\\AppData\\Local\\Temp/ipykernel_24272/3556183788.py\u001b[0m in \u001b[0;36m<listcomp>\u001b[1;34m(.0)\u001b[0m\n\u001b[0;32m     35\u001b[0m \u001b[1;32mdef\u001b[0m \u001b[0mget_stemmed_term\u001b[0m\u001b[1;33m(\u001b[0m\u001b[0mdocument\u001b[0m\u001b[1;33m)\u001b[0m\u001b[1;33m:\u001b[0m\u001b[1;33m\u001b[0m\u001b[1;33m\u001b[0m\u001b[0m\n\u001b[1;32m---> 36\u001b[1;33m     \u001b[1;32mreturn\u001b[0m \u001b[1;33m[\u001b[0m\u001b[0mterm_dict\u001b[0m\u001b[1;33m[\u001b[0m\u001b[0mterm\u001b[0m\u001b[1;33m]\u001b[0m \u001b[1;32mfor\u001b[0m \u001b[0mterm\u001b[0m \u001b[1;32min\u001b[0m \u001b[0mdocument\u001b[0m\u001b[1;33m]\u001b[0m\u001b[1;33m\u001b[0m\u001b[1;33m\u001b[0m\u001b[0m\n\u001b[0m\u001b[0;32m     37\u001b[0m \u001b[1;33m\u001b[0m\u001b[0m\n",
      "\u001b[1;31mTypeError\u001b[0m: unhashable type: 'list'",
      "\nDuring handling of the above exception, another exception occurred:\n",
      "\u001b[1;31mAttributeError\u001b[0m                            Traceback (most recent call last)",
      "\u001b[1;32m~\\AppData\\Local\\Temp/ipykernel_24272/3556183788.py\u001b[0m in \u001b[0;36m<module>\u001b[1;34m\u001b[0m\n\u001b[0;32m     36\u001b[0m     \u001b[1;32mreturn\u001b[0m \u001b[1;33m[\u001b[0m\u001b[0mterm_dict\u001b[0m\u001b[1;33m[\u001b[0m\u001b[0mterm\u001b[0m\u001b[1;33m]\u001b[0m \u001b[1;32mfor\u001b[0m \u001b[0mterm\u001b[0m \u001b[1;32min\u001b[0m \u001b[0mdocument\u001b[0m\u001b[1;33m]\u001b[0m\u001b[1;33m\u001b[0m\u001b[1;33m\u001b[0m\u001b[0m\n\u001b[0;32m     37\u001b[0m \u001b[1;33m\u001b[0m\u001b[0m\n\u001b[1;32m---> 38\u001b[1;33m \u001b[0mdata_berita\u001b[0m\u001b[1;33m[\u001b[0m\u001b[1;34m'deskripsi_tokens_stemmed'\u001b[0m\u001b[1;33m]\u001b[0m \u001b[1;33m=\u001b[0m \u001b[0mdata_berita\u001b[0m\u001b[1;33m[\u001b[0m\u001b[1;34m'deskripsi_normalized'\u001b[0m\u001b[1;33m]\u001b[0m\u001b[1;33m.\u001b[0m\u001b[0mswifter\u001b[0m\u001b[1;33m.\u001b[0m\u001b[0mapply\u001b[0m\u001b[1;33m(\u001b[0m\u001b[0mget_stemmed_term\u001b[0m\u001b[1;33m)\u001b[0m\u001b[1;33m\u001b[0m\u001b[1;33m\u001b[0m\u001b[0m\n\u001b[0m\u001b[0;32m     39\u001b[0m \u001b[0mprint\u001b[0m\u001b[1;33m(\u001b[0m\u001b[0mdata_berita\u001b[0m\u001b[1;33m[\u001b[0m\u001b[1;34m'deskripsi_tokens_stemmed'\u001b[0m\u001b[1;33m]\u001b[0m\u001b[1;33m)\u001b[0m\u001b[1;33m\u001b[0m\u001b[1;33m\u001b[0m\u001b[0m\n",
      "\u001b[1;32m~\\AppData\\Local\\Programs\\Python\\Python39\\lib\\site-packages\\swifter\\swifter.py\u001b[0m in \u001b[0;36mapply\u001b[1;34m(self, func, convert_dtype, args, **kwds)\u001b[0m\n\u001b[0;32m    257\u001b[0m                 \u001b[1;32mif\u001b[0m \u001b[0mself\u001b[0m\u001b[1;33m.\u001b[0m\u001b[0m_progress_bar\u001b[0m\u001b[1;33m:\u001b[0m\u001b[1;33m\u001b[0m\u001b[1;33m\u001b[0m\u001b[0m\n\u001b[0;32m    258\u001b[0m                     \u001b[0mtqdm\u001b[0m\u001b[1;33m.\u001b[0m\u001b[0mpandas\u001b[0m\u001b[1;33m(\u001b[0m\u001b[0mdesc\u001b[0m\u001b[1;33m=\u001b[0m\u001b[0mself\u001b[0m\u001b[1;33m.\u001b[0m\u001b[0m_progress_bar_desc\u001b[0m \u001b[1;32mor\u001b[0m \u001b[1;34m\"Pandas Apply\"\u001b[0m\u001b[1;33m)\u001b[0m\u001b[1;33m\u001b[0m\u001b[1;33m\u001b[0m\u001b[0m\n\u001b[1;32m--> 259\u001b[1;33m                     \u001b[1;32mreturn\u001b[0m \u001b[0mself\u001b[0m\u001b[1;33m.\u001b[0m\u001b[0m_obj\u001b[0m\u001b[1;33m.\u001b[0m\u001b[0mprogress_apply\u001b[0m\u001b[1;33m(\u001b[0m\u001b[0mfunc\u001b[0m\u001b[1;33m,\u001b[0m \u001b[0mconvert_dtype\u001b[0m\u001b[1;33m=\u001b[0m\u001b[0mconvert_dtype\u001b[0m\u001b[1;33m,\u001b[0m \u001b[0margs\u001b[0m\u001b[1;33m=\u001b[0m\u001b[0margs\u001b[0m\u001b[1;33m,\u001b[0m \u001b[1;33m**\u001b[0m\u001b[0mkwds\u001b[0m\u001b[1;33m)\u001b[0m\u001b[1;33m\u001b[0m\u001b[1;33m\u001b[0m\u001b[0m\n\u001b[0m\u001b[0;32m    260\u001b[0m                 \u001b[1;32melse\u001b[0m\u001b[1;33m:\u001b[0m\u001b[1;33m\u001b[0m\u001b[1;33m\u001b[0m\u001b[0m\n\u001b[0;32m    261\u001b[0m                     \u001b[1;32mreturn\u001b[0m \u001b[0mself\u001b[0m\u001b[1;33m.\u001b[0m\u001b[0m_obj\u001b[0m\u001b[1;33m.\u001b[0m\u001b[0mapply\u001b[0m\u001b[1;33m(\u001b[0m\u001b[0mfunc\u001b[0m\u001b[1;33m,\u001b[0m \u001b[0mconvert_dtype\u001b[0m\u001b[1;33m=\u001b[0m\u001b[0mconvert_dtype\u001b[0m\u001b[1;33m,\u001b[0m \u001b[0margs\u001b[0m\u001b[1;33m=\u001b[0m\u001b[0margs\u001b[0m\u001b[1;33m,\u001b[0m \u001b[1;33m**\u001b[0m\u001b[0mkwds\u001b[0m\u001b[1;33m)\u001b[0m\u001b[1;33m\u001b[0m\u001b[1;33m\u001b[0m\u001b[0m\n",
      "\u001b[1;32m~\\AppData\\Local\\Programs\\Python\\Python39\\lib\\site-packages\\tqdm\\std.py\u001b[0m in \u001b[0;36minner\u001b[1;34m(df, func, *args, **kwargs)\u001b[0m\n\u001b[0;32m    792\u001b[0m \u001b[1;33m\u001b[0m\u001b[0m\n\u001b[0;32m    793\u001b[0m                 \u001b[1;32mtry\u001b[0m\u001b[1;33m:\u001b[0m\u001b[1;33m\u001b[0m\u001b[1;33m\u001b[0m\u001b[0m\n\u001b[1;32m--> 794\u001b[1;33m                     \u001b[0mfunc\u001b[0m \u001b[1;33m=\u001b[0m \u001b[0mdf\u001b[0m\u001b[1;33m.\u001b[0m\u001b[0m_is_builtin_func\u001b[0m\u001b[1;33m(\u001b[0m\u001b[0mfunc\u001b[0m\u001b[1;33m)\u001b[0m\u001b[1;33m\u001b[0m\u001b[1;33m\u001b[0m\u001b[0m\n\u001b[0m\u001b[0;32m    795\u001b[0m                 \u001b[1;32mexcept\u001b[0m \u001b[0mTypeError\u001b[0m\u001b[1;33m:\u001b[0m\u001b[1;33m\u001b[0m\u001b[1;33m\u001b[0m\u001b[0m\n\u001b[0;32m    796\u001b[0m                     \u001b[1;32mpass\u001b[0m\u001b[1;33m\u001b[0m\u001b[1;33m\u001b[0m\u001b[0m\n",
      "\u001b[1;32m~\\AppData\\Local\\Programs\\Python\\Python39\\lib\\site-packages\\pandas\\core\\generic.py\u001b[0m in \u001b[0;36m__getattr__\u001b[1;34m(self, name)\u001b[0m\n\u001b[0;32m   5573\u001b[0m         ):\n\u001b[0;32m   5574\u001b[0m             \u001b[1;32mreturn\u001b[0m \u001b[0mself\u001b[0m\u001b[1;33m[\u001b[0m\u001b[0mname\u001b[0m\u001b[1;33m]\u001b[0m\u001b[1;33m\u001b[0m\u001b[1;33m\u001b[0m\u001b[0m\n\u001b[1;32m-> 5575\u001b[1;33m         \u001b[1;32mreturn\u001b[0m \u001b[0mobject\u001b[0m\u001b[1;33m.\u001b[0m\u001b[0m__getattribute__\u001b[0m\u001b[1;33m(\u001b[0m\u001b[0mself\u001b[0m\u001b[1;33m,\u001b[0m \u001b[0mname\u001b[0m\u001b[1;33m)\u001b[0m\u001b[1;33m\u001b[0m\u001b[1;33m\u001b[0m\u001b[0m\n\u001b[0m\u001b[0;32m   5576\u001b[0m \u001b[1;33m\u001b[0m\u001b[0m\n\u001b[0;32m   5577\u001b[0m     \u001b[1;32mdef\u001b[0m \u001b[0m__setattr__\u001b[0m\u001b[1;33m(\u001b[0m\u001b[0mself\u001b[0m\u001b[1;33m,\u001b[0m \u001b[0mname\u001b[0m\u001b[1;33m:\u001b[0m \u001b[0mstr\u001b[0m\u001b[1;33m,\u001b[0m \u001b[0mvalue\u001b[0m\u001b[1;33m)\u001b[0m \u001b[1;33m->\u001b[0m \u001b[1;32mNone\u001b[0m\u001b[1;33m:\u001b[0m\u001b[1;33m\u001b[0m\u001b[1;33m\u001b[0m\u001b[0m\n",
      "\u001b[1;31mAttributeError\u001b[0m: 'Series' object has no attribute '_is_builtin_func'"
     ]
    }
   ],
   "source": [
    "\n",
    "# import Sastrawi package\n",
    "from Sastrawi.Stemmer.StemmerFactory import StemmerFactory\n",
    "import swifter\n",
    "\n",
    "\n",
    "# create stemmer\n",
    "factory = StemmerFactory()\n",
    "stemmer = factory.create_stemmer()\n",
    "\n",
    "# stemmed\n",
    "def stemmed_wrapper(term):\n",
    "    return stemmer.stem(term)\n",
    "\n",
    "term_dict = {}\n",
    "\n",
    "for document in data_berita['deskripsi_normalized']:\n",
    "    for term in document:\n",
    "        if term not in term_dict:\n",
    "            term_dict[term] = ' '\n",
    "            \n",
    "print(len(term_dict))\n",
    "print(\"------------------------\")\n",
    "\n",
    "for term in term_dict:\n",
    "    i=0\n",
    "    if i<10:\n",
    "        term_dict[term] = stemmed_wrapper(term)\n",
    "        #print(term,\":\" ,term_dict[term])\n",
    "    \n",
    "print(term_dict)\n",
    "print(\"------------------------\")\n",
    "\n",
    "\n",
    "# apply stemmed term to dataframe\n",
    "def get_stemmed_term(document):\n",
    "    return [term_dict[term] for term in document]\n",
    "\n",
    "data_berita['deskripsi_tokens_stemmed'] = data_berita['deskripsi_normalized'].swifter.apply(get_stemmed_term)\n",
    "print(data_berita['deskripsi_tokens_stemmed'])"
   ]
  },
  {
   "cell_type": "markdown",
   "id": "d0e9dac3",
   "metadata": {},
   "source": [
    "## Simpan Data ke CSV"
   ]
  },
  {
   "cell_type": "code",
   "execution_count": 325,
   "id": "4e80f2d0",
   "metadata": {},
   "outputs": [],
   "source": [
    "data_berita.to_csv(\"TextPreprocessing.csv\")"
   ]
  },
  {
   "cell_type": "markdown",
   "id": "42bf12b8",
   "metadata": {},
   "source": [
    "## Prepare Data"
   ]
  },
  {
   "cell_type": "code",
   "execution_count": 338,
   "id": "7c1802b8",
   "metadata": {},
   "outputs": [
    {
     "output_type": "execute_result",
     "data": {
      "text/plain": "                                            deskripsi\n0   ['inggris', 'larang', 'impor', 'produk', 'kese...\n1   ['tempoco', 'ramadan', 'tak', 'hanya', 'indone...\n2   ['tumbuh', 'persen', 'amar', 'bank', 'salurkan...\n3   ['kiat', 'menjaga', 'kesehatan', 'hati', 'repo...\n4   ['pesenam', 'kelahiran', 'new', 'york', 'tetap...\n5   ['bursa', 'transfer', 'liga', 'rans', 'cilegon...\n6   ['siaran', 'tv', 'analog', 'dihentikan', 'apri...\n7   ['kualifikasi', 'formula', 'emilia', 'romagna'...\n8   ['bursa', 'transfer', 'liga', 'psis', 'semaran...\n9   ['gempa', 'terkini', 'di', 'sulawesi', 'tengah...\n10  ['top', 'dunia', 'sekjen', 'pbb', 'ingin', 'ke...\n11  ['skuter', 'listrik', 'yamaha', 'tak', 'pakai'...\n12  ['mudik', 'lebaran', 'waspada', 'kerawanan', '...\n13  ['terpopuler', 'bisnis', 'rincian', 'aset', 'k...\n14  ['prakiraan', 'cuaca', 'bmkg', 'antisipasi', '...\n15  ['jadwal', 'bola', 'sabtu', 'malam', 'april', ...\n16  ['dengan', 'aplikasi', 'ini', 'siswa', 'mau', ...\n17  ['zendaya', 'absen', 'di', 'met', 'gala', 'dua...\n18  ['ramalan', 'cuaca', 'sebagian', 'besar', 'jak...\n19  ['pembatasan', 'halal', 'bihalal', 'lebaran', ...",
      "text/html": "<div>\n<style scoped>\n    .dataframe tbody tr th:only-of-type {\n        vertical-align: middle;\n    }\n\n    .dataframe tbody tr th {\n        vertical-align: top;\n    }\n\n    .dataframe thead th {\n        text-align: right;\n    }\n</style>\n<table border=\"1\" class=\"dataframe\">\n  <thead>\n    <tr style=\"text-align: right;\">\n      <th></th>\n      <th>deskripsi</th>\n    </tr>\n  </thead>\n  <tbody>\n    <tr>\n      <th>0</th>\n      <td>['inggris', 'larang', 'impor', 'produk', 'kese...</td>\n    </tr>\n    <tr>\n      <th>1</th>\n      <td>['tempoco', 'ramadan', 'tak', 'hanya', 'indone...</td>\n    </tr>\n    <tr>\n      <th>2</th>\n      <td>['tumbuh', 'persen', 'amar', 'bank', 'salurkan...</td>\n    </tr>\n    <tr>\n      <th>3</th>\n      <td>['kiat', 'menjaga', 'kesehatan', 'hati', 'repo...</td>\n    </tr>\n    <tr>\n      <th>4</th>\n      <td>['pesenam', 'kelahiran', 'new', 'york', 'tetap...</td>\n    </tr>\n    <tr>\n      <th>5</th>\n      <td>['bursa', 'transfer', 'liga', 'rans', 'cilegon...</td>\n    </tr>\n    <tr>\n      <th>6</th>\n      <td>['siaran', 'tv', 'analog', 'dihentikan', 'apri...</td>\n    </tr>\n    <tr>\n      <th>7</th>\n      <td>['kualifikasi', 'formula', 'emilia', 'romagna'...</td>\n    </tr>\n    <tr>\n      <th>8</th>\n      <td>['bursa', 'transfer', 'liga', 'psis', 'semaran...</td>\n    </tr>\n    <tr>\n      <th>9</th>\n      <td>['gempa', 'terkini', 'di', 'sulawesi', 'tengah...</td>\n    </tr>\n    <tr>\n      <th>10</th>\n      <td>['top', 'dunia', 'sekjen', 'pbb', 'ingin', 'ke...</td>\n    </tr>\n    <tr>\n      <th>11</th>\n      <td>['skuter', 'listrik', 'yamaha', 'tak', 'pakai'...</td>\n    </tr>\n    <tr>\n      <th>12</th>\n      <td>['mudik', 'lebaran', 'waspada', 'kerawanan', '...</td>\n    </tr>\n    <tr>\n      <th>13</th>\n      <td>['terpopuler', 'bisnis', 'rincian', 'aset', 'k...</td>\n    </tr>\n    <tr>\n      <th>14</th>\n      <td>['prakiraan', 'cuaca', 'bmkg', 'antisipasi', '...</td>\n    </tr>\n    <tr>\n      <th>15</th>\n      <td>['jadwal', 'bola', 'sabtu', 'malam', 'april', ...</td>\n    </tr>\n    <tr>\n      <th>16</th>\n      <td>['dengan', 'aplikasi', 'ini', 'siswa', 'mau', ...</td>\n    </tr>\n    <tr>\n      <th>17</th>\n      <td>['zendaya', 'absen', 'di', 'met', 'gala', 'dua...</td>\n    </tr>\n    <tr>\n      <th>18</th>\n      <td>['ramalan', 'cuaca', 'sebagian', 'besar', 'jak...</td>\n    </tr>\n    <tr>\n      <th>19</th>\n      <td>['pembatasan', 'halal', 'bihalal', 'lebaran', ...</td>\n    </tr>\n  </tbody>\n</table>\n</div>"
     },
     "metadata": {},
     "execution_count": 338
    }
   ],
   "source": [
    "import pandas as pd \n",
    "import numpy as np\n",
    "\n",
    "data_berita = pd.read_csv(\"TextPreprocessing.csv\", usecols=[\"deskripsi_tokens\"])\n",
    "data_berita.columns = [\"deskripsi\"]\n",
    "\n",
    "data_berita.head(20)"
   ]
  },
  {
   "cell_type": "markdown",
   "id": "73971e0e",
   "metadata": {},
   "source": [
    "## Term Frekuensi"
   ]
  },
  {
   "cell_type": "code",
   "execution_count": 339,
   "id": "5ccdbe00",
   "metadata": {
    "tags": [
     "outputPrepend"
    ]
   },
   "outputs": [
    {
     "output_type": "stream",
     "name": "stdout",
     "text": ": 479, 'bmkg': 321, 'relatif': 1943, 'dekat': 441, 'daratanbmkg': 430, 'menyebut': 1449, 'skalaguncangan': 2192, 'dirasakandi': 544, 'morowalidan': 1517, 'sekitarnya': 2089, 'gambar': 690, 'intensitas': 830, 'setidaknya': 2157, 'dirasakan': 543, 'skala': 2191, 'iii': 796, 'mmi': 1499, 'setara': 2149, 'getaran': 706, 'rumah': 1999, 'truk': 2405, 'melintasgempa': 1288, 'untukditeruskan': 2450, 'bunyi': 349, 'arahan': 93, 'diberikan': 485, 'disarankannya': 554, 'kemudian': 1010, 'hatihati': 756, 'bumi': 348, 'susulan': 2241, 'berselang': 279, 'poso': 1837, 'ibukota': 794, 'provinsi': 1872, 'berkekuatan': 249, 'berpusat': 276, 'darat': 429, 'mmicatatandalam': 1500, 'informasi': 812, 'telahdisusulkan': 2287, 'pagi': 1615, 'bahodopi': 143, 'morowalibaca': 1516, 'jugabeasiswa': 911, 'djarumplus': 588, 'mahasiswa': 1209, 'simak': 2174, 'daftar': 415, 'kriteriaselaluupdateinfo': 1106, 'simakbreaking': 2175, 'newsdan': 1554, 'pilihan': 1807, 'daritempocodi': 433, 'kanal': 946, 'telegram': 2288, 'update': 2453, 'klik': 1065, 'bergabung': 229, 'menginstallaplikasi': 1406, 'terlebih': 2345, 'dahulu': 416, 'top': 2392, 'sekjen': 2091, 'pbb': 1653, 'ketemu': 1035, 'presiden': 1850, 'putin': 1894, 'zelensky': 2553, 'suci': 2221, 'sekarwati': 2087, 'pejuang': 1658, 'unit': 2445, 'pasukan': 1650, 'chechnya': 373, 'dipimpin': 536, 'duma': 603, 'rusia': 2002, 'adam': 9, 'delimkhanov': 444, 'berjalan': 244, 'gedung': 699, 'administrasi': 12, 'pabrik': 1609, 'besi': 299, 'baja': 146, 'azovstal': 135, 'konflik': 1089, 'ukrainarusia': 2438, 'pelabuhan': 1663, 'mariupol': 1244, 'ukraina': 2437, 'disebuit': 555, 'perlindungan': 1761, 'milisi': 1485, 'kombatan': 1074, 'reuterschingis': 1956, 'kondarov': 1084, 'urutan': 2455, 'tentang': 2307, 'rentetan': 1947, 'tuduhan': 2410, 'diarahkan': 476, 'beruang': 288, 'menginvasi': 1407, 'antonio': 81, 'guterres': 728, 'mengirim': 1408, 'surat': 2239, 'vladimir': 2482, 'putindan': 1895, 'volodymyr': 2485, 'pertemuan': 1785, 'berakhirnya': 214, 'bulandi': 345, 'temuan': 2302, 'wni': 2521, 'dieksploitasi': 498, 'kasino': 960, 'judi': 909, 'online': 1594, 'kamboja': 939, 'sebelumnya': 2065, 'dirayu': 545, 'sebuah': 2066, 'perusahaan': 1790, 'startup': 2214, 'customer': 412, 'servicedengan': 2145, 'gaji': 688, 'besarpada': 297, 'kasus': 961, 'jumlah': 925, 'muncul': 1531, 'permukaanberikut': 1764, 'selengkapnya': 2105, 'invasi': 840, 'serangan': 2136, 'barusekjen': 178, 'mengakhiri': 1375, 'bulanperang': 346, 'runyam': 2001, 'munculnya': 1532, 'prasangka': 1847, 'diantaranya': 475, 'turkimenuduh': 2418, 'sekutu': 2097, 'nato': 1547, 'menginginkan': 1405, 'perang': 1740, 'melemahkan': 1282, 'turki': 2417, 'berlanjutwakil': 260, 'duta': 606, 'rusiauntuk': 2004, 'dmitry': 590, 'polyansky': 1827, 'pernyataan': 1766, 'sengaja': 2124, 'diumpankan': 580, 'melawan': 1281, 'rusiabaca': 2003, 'sinikantor': 2181, 'jln': 900, 'pejambon': 1657, 'sekartempo': 2086, 'kambojadirektur': 940, 'bhi': 304, 'judha': 908, 'nugraha': 1575, 'menyampaikan': 1445, 'awalnya': 133, 'besarwni': 298, 'korban': 1098, 'berasal': 219, 'macam': 1202, 'utara': 2458, 'phnom': 1802, 'penh': 1723, 'via': 2473, 'singapurasetibanya': 2178, 'onlinediantaranya': 1595, 'diminta': 521, 'memasarkan': 1298, 'investasicrypto': 841, 'currencydengan': 411, 'klaim': 1062, 'intent': 831, 'investment': 842, 'mendasar': 1362, 'berpotensiscammingkata': 273, 'jumpa': 926, 'pers': 1769, 'virtual': 2479, 'baca': 137, 'sinipekerja': 2182, 'pakaian': 1620, 'apd': 86, 'berjagajaga': 243, 'jalan': 863, 'penguncian': 1721, 'mengekang': 1386, 'penyebaran': 1734, 'coronavirus': 402, 'shanghai': 2160, 'penambahan': 1688, 'signifikan': 2170, 'memberlakukan': 1311, 'kebijakan': 970, 'lockdown': 1193, 'reutersaly': 1955, 'songcorona': 2200, 'melonjak': 1290, 'batal': 180, 'longgarkan': 1197, 'lockdownotoritas': 1194, 'melanjutkan': 1277, 'pembatasan': 1680, 'ketat': 1034, 'distrikdistrik': 563, 'berhasil': 236, 'memangkas': 1295, 'penularan': 1729, 'nol': 1562, 'pasalnya': 1642, 'area': 95, 'karantina': 954, 'lagiotoritas': 1117, 'distrik': 562, 'jingan': 899, 'penduduk': 1697, 'hampir': 747, 'mengizinkan': 1411, 'penduduknya': 1698, 'kompleks': 1081, 'perumahan': 1788, 'menghindari': 1399, 'kegiatan': 984, 'berkerumum': 252, 'begitu': 194, 'pula': 1883, 'chongming': 378, 'terletak': 2346, 'terpencilpada': 2353, 'konferensi': 1088, 'reguler': 1935, 'wakil': 2492, 'gubernur': 723, 'meskipun': 1472, 'melaporkan': 1279, 'ribu': 1967, 'semestinya': 2116, 'meninggalkan': 1423, 'merekawakil': 1464, 'zhang': 2555, 'zhitong': 2556, 'supermarket': 2235, 'tutup': 2423, 'beroperasi': 268, 'tangga': 2266, 'chongmingbaca': 379, 'siniselaluupdateinfo': 2183, 'skuter': 2194, 'listrik': 1187, 'yamaha': 2530, 'pakai': 1619, 'baterai': 182, 'swap': 2243, 'alasannya': 40, 'dicky': 492, 'jobpie': 901, 'sugiharto': 2223, 'tempodicky': 2299, 'motor': 1519, 'manufacturing': 1239, 'yimm': 2538, 'uji': 2434, 'coba': 390, 'pasar': 1645, 'terbarunya': 2319, 'dibekali': 483, 'fixed': 668, 'artinya': 103, 'pengisian': 1718, 'baterainya': 183, 'ditukar': 574, 'model': 1509, 'pluginmenurut': 1820, 'director': 547, 'coo': 399, 'dyonisius': 607, 'beti': 301, 'fixedyamahaedipilih': 669, 'mampu': 1231, 'jangkauan': 874, 'swapfixed': 2244, 'battery': 185, 'jarak': 876, 'tempuhnya': 2301, 'jaminan': 870, 'kondisinya': 1086, 'kemampuannya': 1001, 'bergantung': 231, 'global': 713, 'press': 1852, 'conference': 398, 'company': 395, 'proof': 1869, 'concept': 397, 'poc': 1822, 'planner': 1813, 'companyyasushi': 396, 'nomuramengatakan': 1564, 'kombinasi': 1075, 'optimal': 1598, 'tentangjarak': 2308, 'tempuh': 2300, 'metode': 1477, 'yamahaemenurut': 2532, 'engineer': 626, 'project': 1866, 'leader': 1152, 'ymc': 2539, 'takuya': 2259, 'maruo': 1247, 'kecepatan': 976, 'per': 1737, 'jam': 868, 'tipe': 2385, 'pengisiannya': 1719, 'plugin': 1819, 'bukan': 343, 'swapteknologi': 2245, 'memungkinkan': 1338, 'mengeluarkan': 1387, 'maksimum': 1223, 'hp': 782, 'rpm': 1995, 'torsi': 2394, 'nm': 1561, 'rpmyamaha': 1996, 'opsi': 1597, 'daya': 439, 'pengisi': 1717, 'cepat': 369, 'mengisi': 1410, 'output': 1608, 'volt': 2486, 'jamterakhir': 872, 'portabel': 1831, 'kompatibel': 1079, 'stop': 2217, 'kontak': 1091, 'jamsecara': 871, 'disimpan': 561, 'bawah': 187, 'kursi': 1112, 'jok': 904, 'fleksibel': 670, 'tampak': 2260, 'agak': 14, 'yamahae': 2531, 'mengasumsikan': 1380, 'harian': 752, 'kilometerbacaskuter': 1051, 'listrikyamaha': 1188, 'emulai': 624, 'diuji': 577, 'jepangingin': 894, 'berdiskusi': 227, 'redaksi': 1931, 'mengenai': 1389, 'artikel': 102, 'mari': 1242, 'telegramgooto': 2289, 'waspada': 2500, 'kerawanan': 1020, 'jalur': 865, 'wicaksono': 2512, 'kontributor': 1095, 'rini': 1977, 'kustiani': 1113, 'yogya': 2541, 'solo': 2199, 'mall': 1228, 'ambarrukmo': 57, 'padat': 1613, 'merayap': 1461, 'liburan': 1176, 'justru': 927, 'lengang': 1165, 'selasa': 2102, 'desember': 456, 'istimewa': 846, 'diy': 586, 'wisatawan': 2520, 'mewaspadai': 1479, 'rawan': 1924, 'direktur': 548, 'lintas': 1184, 'komisaris': 1078, 'iwan': 852, 'saktiadi': 2019, 'diwapasdaipertama': 585, 'akses': 34, 'magelang': 1205, 'tempel': 2295, 'sleman': 2195, 'ring': 1974, 'road': 1986, 'karakteristik': 953, 'turn': 2419, 'penggalan': 1709, 'cukup': 410, 'lebar': 1153, 'devider': 462, 'beton': 303, 'menurut': 1439, 'lintasnya': 1186, 'tingginya': 2383, 'angka': 72, 'kecelakaankedua': 975, 'timur': 2379, 'prambanan': 1844, 'simpang': 2177, 'proliman': 1867, 'maguwoharjo': 1208, 'mirip': 1496, 'menghubungkan': 1400, 'purworejo': 1890, 'klaten': 1064, 'temon': 2293, 'wates': 2501, 'kulon': 1109, 'progo': 1864, 'gamping': 694, 'jalurnya': 867, 'tumpah': 2413, 'diakeempat': 471, 'wonosari': 2522, 'playen': 1817, 'patuk': 1651, 'piyungan': 1812, 'ditambah': 565, 'berkelok': 250, 'naikturun': 1541, 'diaselain': 478, 'tadi': 2250, 'menambahkan': 1340, 'alternatif': 52, 'misalkan': 1497, 'sebaliknya': 2061, 'melewati': 1285, 'turi': 2416, 'pakem': 1622, 'ngemplak': 1556, 'kalasan': 933, 'peemukiman': 1656, 'minim': 1488, 'penerangan': 1700, 'malam': 1224, 'katanyalalu': 964, 'sedayu': 2070, 'ditempuh': 570, 'lewat': 1172, 'pajangan': 1618, 'pandak': 1632, 'bantul': 170, 'kerawanannya': 1021, 'jalankepala': 864, 'humas': 786, 'yuliyanto': 2550, 'mendirikan': 1365, 'pos': 1833, 'pengaman': 1706, 'pelayanan': 1670, 'operasi': 1596, 'ketupat': 1044, 'personel': 1778, 'terlibat': 2347, 'ujarnya': 2433, 'rinciannya': 1972, 'instansi': 829, 'lainnyakepala': 1124, 'inspektur': 827, 'jenderal': 891, 'asep': 111, 'suhendar': 2224, 'pengamanan': 1707, 'ldul': 1151, 'berfokus': 228, 'sarana': 2042, 'vital': 2481, 'ibadah': 790, 'destinasi': 457, 'wisata': 2519, 'perbelanjaan': 1746, 'terminal': 2350, 'lainnyaasep': 1123, 'mengingatkan': 1404, 'libur': 1175, 'covidbaca': 404, 'jugayogyakarta': 917, 'bakal': 147, 'macet': 1203, 'mencegahnyaselaluupdateinfo': 1353, 'kliktempoco': 1066, 'updateuntuk': 2454, 'lebihdulu': 1157, 'terpopuler': 2355, 'rincian': 1971, 'aset': 112, 'bpk': 332, 'kantor': 950, 'ditutup': 576, 'isma': 844, 'yatun': 2536, 'dok': 591, 'kekayaanisma': 989, 'danrencana': 425, 'penutupan': 1731, 'persero': 1775, 'tbkdi': 2275, 'tanah': 2264, 'airkemudian': 23, 'sri': 2210, 'sultan': 2230, 'hamengkubuwono': 743, 'penetapan': 1702, 'tersangka': 2357, 'dugaan': 602, 'korupsi': 1100, 'ekspor': 616, 'cpo': 405, 'turunannya': 2421, 'berujung': 289, 'kelangkaan': 993, 'minyak': 1494, 'goreng': 715, 'airselain': 24, 'satuan': 2046, 'tugas': 2411, 'penanganan': 1691, 'syarat': 2249, 'aturan': 130, 'terbaru': 2318, 'calon': 358, 'pelaku': 1665, 'ppdn': 1841, 'prakiraan': 1843, 'cuaca': 406, 'antisipasi': 80, 'petir': 1798, 'maria': 1243, 'fransisca': 679, 'lahur': 1120, 'awan': 134, 'mendungcuaca': 1367, 'buruk': 352, 'tempoaditia': 2297, 'noviansyah': 1572, 'memprediksi': 1333, 'kotaakan': 1102, 'disertai': 558, 'adalahbengkulu': 8, 'surabaya': 2238, 'pontianakmataram': 1829, 'mamujusedangkan': 1232, 'prediksi': 1849, 'berlaku': 257, 'tanjung': 2269, 'pinang': 1809, 'medan': 1266, 'ringan': 1975, 'diperkirakan': 533, 'luas': 1201, 'banda': 156, 'aceh': 5, 'denpasar': 449, 'gorontalo': 716, 'jambi': 869, 'bandung': 158, 'banjarmasin': 162, 'palangkaraya': 1626, 'samarinda': 2026, 'pangkal': 1634, 'bandar': 157, 'ambon': 58, 'ternate': 2351, 'manokwari': 1237, 'pekanbaru': 1660, 'padang': 1612, 'palembangmenurut': 1627, 'suhu': 2225, 'udara': 2428, 'berkisar': 253, 'derajatcelsius': 453, 'suhuyang': 2226, 'terendah': 2330, 'terukur': 2366, 'tertinggi': 2364, 'banjarmasincuaca': 163, 'dipengaruhi': 529, 'bibit': 307, 'siklon': 2172, 'tropis': 2404, 'terpantau': 2352, 'samudera': 2032, 'hindia': 774, 'sebelah': 2063, 'banten': 168, 'pertamamenginduksi': 1782, 'angin': 71, 'low': 1199, 'level': 1169, 'jet': 897, 'knot': 1071, 'memanjang': 1296, 'samudra': 2033, 'baratbengkulu': 174, 'teluk': 2291, 'carpentaria': 361, 'yangmembentuk': 2534, 'konvergensi': 1096, 'australia': 131, 'sirkulasi': 2185, 'siklonik': 2173, 'malukudaerah': 1230, 'pasifik': 1646, 'halmahera': 739, 'potensi': 1838, 'pertumbuhan': 1786, 'ketinggian': 1042, 'gelombang': 701, 'sekitarnyabaca': 2090, 'jugamusim': 916, 'alami': 39, 'perpanjangan': 1768, 'lebihselaluupdateinfo': 1158, 'jadwal': 855, 'hadirkan': 732, 'reutersmike': 1958, 'hewitt': 765, 'ahad': 21, 'menampilkan': 1341, 'rangkaian': 1917, 'pertandingan': 1784, 'prancis': 1845, 'jerman': 895, 'copa': 400, 'del': 442, 'rey': 1962, 'gelar': 700, 'dipertaruhkanliga': 535, 'brentford': 333, 'vs': 2487, 'tottenham': 2396, 'hotspurs': 781, 'live': 1189, 'sctv': 2055, 'arsenal': 100, 'manchester': 1235, 'city': 388, 'watford': 2502, 'leicester': 1161, 'aston': 120, 'villabelum': 2477, 'penentuan': 1699, 'nilai': 1560, 'laga': 1115, 'liverpoolm': 1192, 'bermain': 266, 'everton': 636, 'malamdi': 1225, 'naun': 1548, 'menarik': 1346, 'disiarkan': 560, 'mnctv': 1501, 'inter': 832, 'milan': 1484, 'as': 107, 'roma': 1990, 'tersaji': 2356, 'teratas': 2313, 'bayern': 190, 'munchen': 1530, 'borussia': 329, 'dortmund': 595, 'saling': 2023, 'berhadapan': 234, 'tersisa': 2363, 'kini': 1057, 'sembilan': 2113, 'bila': 313, 'memenangi': 1318, 'inidi': 820, 'psg': 1873, 'membutuhkan': 1317, 'seri': 2139, 'lenspenentuan': 1167, 'piala': 1803, 'raja': 1910, 'spanyol': 2205, 'real': 1928, 'betis': 302, 'valencia': 2463, 'bertemu': 284, 'finaljadwal': 662, 'selengkapnyasabtu': 2106, 'inggrispekan': 815, 'mola': 1510, 'villa': 2476, 'norwich': 1570, 'newcastle': 1553, 'sctvliga': 2056, 'italiapekan': 849, 'bein': 196, 'sports': 2207, 'venezia': 2466, 'atalanta': 122, 'torino': 2393, 'spezia': 2206, 'mnctvliga': 1502, 'eintracht': 612, 'frankfurt': 678, 'hoffenheim': 779, 'greuther': 720, 'furth': 682, 'bayer': 189, 'leverkusen': 1171, 'rb': 1926, 'leipzig': 1162, 'union': 2444, 'berlin': 265, 'freiburg': 680, 'monchengladbach': 1512, 'koln': 1073, 'arminia': 99, 'bielefeld': 311, 'tvoneahad': 2425, 'hellas': 760, 'verona': 2468, 'sampdorialiga': 2030, 'prancispekan': 1846, 'lens': 1166, 'rcticopa': 1927, 'reyfinal': 1963, 'sportselanjutnya': 2208, 'berikutnya': 239, 'langsung': 1140, 'aplikasi': 88, 'siswa': 2189, 'mau': 1257, 'ujian': 2436, 'minta': 1492, 'ajari': 26, 'dosen': 596, 'profesor': 1863, 'mengajar': 1373, 'shutterstockcom': 2163, 'startupdi': 2215, 'apabilamemiliki': 83, 'kesulitan': 1033, 'belajar': 200, 'terutama': 2368, 'menempuh': 1368, 'dengankalangan': 448, 'aplikasibernamaujiajacomitu': 89, 'sambilan': 2027, 'bergelar': 233, 'guru': 727, 'les': 1168, 'ceoujiajacom': 368, 'zabina': 2551, 'asfahanizabinasaat': 113, 'masih': 1251, 'semester': 2115, 'fakultas': 642, 'teknik': 2285, 'universitas': 2447, 'gadjah': 685, 'mada': 1204, 'ugm': 2429, 'diakses': 472, 'playstore': 1818, 'website': 2506, 'fiturtryout': 667, 'privatcara': 1856, 'kerjanya': 1025, 'diyakinizabina': 587, 'pengajar': 1704, 'mendaftar': 1357, 'demikian': 446, 'soalsoal': 2197, 'tryout': 2406, 'privat': 1855, 'kebutuhannya': 972, 'platformbisa': 1816, 'menjembatani': 1433, 'memaksimalkan': 1293, 'repot': 1949, 'tatap': 2273, 'muka': 1525, 'beda': 193, 'darikebanyakan': 432, 'sejenis': 2082, 'diujiajacompengajar': 578, 'membatasi': 1302, 'latar': 1145, 'belakangkalau': 203, 'kan': 945, 'disediakan': 557, 'buatannya': 338, 'mahasiswameski': 1210, 'begituzabina': 195, 'menmbahkandi': 1434, 'ujiajacommenerapkan': 2435, 'levelfee': 1170, 'bayarannya': 188, 'diadari': 470, 'pengelola': 1708, 'membayar': 1304, 'terbangnyazabina': 2317, 'layaknya': 1149, 'ojek': 1589, 'mengatur': 1383, 'pelangganmenggunakan': 1666, 'antarjemput': 78, 'pesanannya': 1791, 'diujiajacomsiswa': 579, 'pengguna': 1711, 'pilihannyabaca': 1808, 'jugadi': 913, 'sekolah': 2092, 'vokasi': 2484, 'dirjen': 551, 'pendaftar': 1694, 'buka': 342, 'dselaluupdateinfo': 599, 'zendaya': 2554, 'absen': 2, 'met': 1473, 'gala': 689, 'berturutturut': 287, 'mila': 1483, 'novita': 1573, 'berpose': 271, 'menghadiri': 1396, 'acara': 4, 'oscar': 1606, 'hollywood': 780, 'los': 1198, 'angeles': 69, 'maret': 1241, 'minimalis': 1489, 'rambutnya': 1915, 'menariknya': 1347, 'detail': 458, 'ansambelnya': 74, 'ramping': 1916, 'glamor': 712, 'reuterseric': 1957, 'gaillard': 687, 'metgala': 1476, 'aktris': 37, 'euphoria': 631, 'sekali': 2084, 'melewatkan': 1286, 'pesta': 1795, 'fashion': 645, 'bekerjasaya': 199, 'benci': 208, 'mengecewakan': 1385, 'penggemar': 1710, 'wawancara': 2504, 'extra': 638, 'gadismu': 684, 'film': 660, 'berharap': 235, 'orangdia': 1601, 'hadir': 731, 'entah': 627, 'kapanini': 951, 'menandai': 1342, 'amal': 53, 'mengungkapkan': 1417, 'mode': 1508, 'jadwalnya': 856, 'bentrok': 211, 'produksi': 1859, 'hbo': 758, 'hitsnya': 777, 'sayangnya': 2052, 'euphoriamet': 632, 'mei': 1269, 'metropolitan': 1478, 'museum': 1534, 'arts': 104, 'tanggal': 2267, 'diadakan': 469, 'senin': 2125, 'septembertema': 2134, 'in': 802, 'america': 59, 'anthology': 79, 'dress': 598, 'code': 392, 'berlapis': 261, 'dasi': 436, 'putih': 1893, 'terinspirasi': 2338, 'periode': 1756, 'tamu': 2263, 'mewujudkan': 1480, 'kejayaan': 986, 'gilded': 709, 'age': 17, 'vogue': 2483, 'pasangan': 1643, 'blake': 320, 'lively': 1190, 'ryan': 2009, 'reynolds': 1964, 'cochair': 391, 'pemenang': 1681, 'regina': 1933, 'king': 1056, 'superstar': 2236, 'broadway': 335, 'linmanuel': 1183, 'mirandaera': 1495, 'industrialisasi': 810, 'melahirkan': 1270, 'orangorang': 1602, 'john': 902, 'rockefeller': 1988, 'jp': 906, 'morgan': 1514, 'cornelius': 401, 'vanderbilt': 2465, 'kemakmuran': 1000, 'budaya': 340, 'lampu': 1134, 'dipatenkan': 528, 'telepon': 2290, 'ditemukan': 571, 'upah': 2452, 'meroket': 1468, 'pencakar': 1692, 'langit': 1138, 'kekayaanmelayani': 990, 'lexicon': 1174, 'penghormatan': 1715, 'sejarah': 2080, 'pameran': 1631, 'dipajang': 527, 'ruang': 1998, 'bertingkatmet': 285, 'dibatalkan': 481, 'pandemi': 1633, 'ia': 789, 'menghiasi': 1398, 'karpet': 957, 'gaun': 697, 'cinderella': 385, 'the': 2373, 'greatest': 719, 'showman': 2161, 'bertabur': 282, 'bintang': 314, 'tommy': 2390, 'hilfiger': 770, 'korset': 1099, 'hitam': 776, 'biru': 315, 'lengan': 1164, 'pouffy': 1839, 'rok': 1989, 'berkat': 247, 'bantuan': 169, 'perinya': 1755, 'stylist': 2219, 'law': 1148, 'roach': 1985, 'lambaian': 1132, 'tongkat': 2391, 'sihirnya': 2171, 'pakaiannya': 1621, 'menyalabaca': 1442, 'jugazendaya': 918, 'chic': 375, 'bergaya': 232, 'monokrom': 1513, 'setelan': 2152, 'abuabuselaluupdateinfo': 3, 'simakbreakingnewsdan': 2176, 'perlumenginstallaplikasi': 1763, 'ramalan': 1914, 'diguyur': 501, 'yudha': 2548, 'saputra': 2041, 'ahmad': 22, 'faiz': 639, 'ibnu': 791, 'sani': 2039, 'takjil': 2257, 'gratis': 718, 'cempaka': 365, 'xxi': 2526, 'mengguyur': 1394, 'menghalangi': 1397, 'mengantre': 1379, 'fathurrahman': 647, 'siang': 2164, 'cerah': 370, 'berawan': 221, 'inibmkg': 818, 'memprakirakan': 1332, 'kepulauan': 1015, 'seribu': 2140, 'kelapa': 994, 'gading': 683, 'penjaringan': 1726, 'diramalkan': 541, 'soreuntuk': 2202, 'jakut': 862, 'kep': 1012, 'didominasi': 496, 'pagimalam': 1616, 'siangsore': 2165, 'cuit': 409, 'twitter': 2426, 'penjarian': 1725, 'setelahnya': 2151, 'ratarata': 1922, 'derajat': 452, 'celsius': 364, 'kelembaban': 996, 'diprakirakan': 537, 'kmjam': 1070, 'kecamatan': 973, 'sawah': 2050, 'diprediksi': 538, 'wibuntuk': 2510, 'jakpus': 859, 'jakbar': 858, 'jaksel': 860, 'jaktim': 861, 'pagisore': 1617, 'ringanhujan': 1976, 'bmkgselain': 323, 'abang': 0, 'cengkareng': 366, 'kalideres': 936, 'kebon': 971, 'jeruk': 896, 'kembangan': 1006, 'palmerah': 1630, 'selebihnya': 2104, 'wibwilayah': 2511, 'wilayahnya': 2516, 'berlanjut': 259, 'kecuali': 978, 'setia': 2154, 'budi': 341, 'wibsementara': 2509, 'hukan': 785, 'cakung': 357, 'matraman': 1256, 'pulogadung': 1887, 'melanda': 1275, 'cipayung': 386, 'ciracas': 387, 'kramat': 1104, 'jati': 879, 'makasar': 1221, 'rebo': 1929, 'diramal': 540, 'wibbaca': 2508, 'jugamobil': 915, 'terperosok': 2354, 'sungai': 2233, 'depok': 451, 'petugas': 1801, 'tergenang': 2333, 'banjir': 164, 'halal': 735, 'bihalal': 312, 'terbit': 2321, 'makanmakan': 1219, 'dewi': 464, 'nurita': 1578, 'syailendra': 2248, 'persada': 1770, 'halalbihalal': 736, 'kerabat': 1017, 'rawa': 1923, 'bambu': 154, 'bekasi': 197, 'antaradhemas': 77, 'reviyanto': 1961, 'tito': 2388, 'karnavian': 956, 'menerbitkan': 1370, 'edaran': 608, 'sj': 2190, 'pelaksanaan': 1664, 'hijriah': 769, 'diteken': 568, 'ditujukan': 573, 'bupati': 350, 'wali': 2494, 'indonesiadalam': 808, 'se': 2057, 'disesuaikan': 559, 'ppkm': 1842, 'kapasitas': 952, 'kategori': 965, 'makananminuman': 1218, 'kemasan': 1003, 'dibawa': 482, 'diperbolehkan': 531, 'disajikan': 552, 'prasmanan': 1848, 'salinan': 2022, 'tersebutmeski': 2360, 'dibolehkan': 490, 'mendagri': 1358, 'mengimbau': 1403, 'protokol': 1871, 'sekurangkurangnya': 2096, 'memakai': 1291, 'masker': 1253, 'mencuci': 1355, 'tangan': 2265, 'berkala': 246, 'dihindari': 504, 'ramai': 1913, 'peserta': 1794, 'membuka': 1315, 'soal': 2196}\nEncoded Document is:\n[[0 0 0 ... 0 0 0]\n [0 1 0 ... 0 0 0]\n [0 0 0 ... 0 0 0]\n ...\n [0 0 1 ... 0 0 0]\n [2 0 0 ... 0 0 0]\n [0 0 0 ... 0 0 0]]\n"
    }
   ],
   "source": [
    "from sklearn.feature_extraction.text import CountVectorizer\n",
    "\n",
    "a=len(document)\n",
    "document = data_berita['deskripsi']\n",
    "\n",
    "# Create a Vectorizer Object\n",
    "vectorizer = CountVectorizer()\n",
    "\n",
    "vectorizer.fit(document)\n",
    "\n",
    "# Printing the identified Unique words along with their indices\n",
    "print(\"Vocabulary: \", vectorizer.vocabulary_)\n",
    "\n",
    "# Encode the Document\n",
    "vector = vectorizer.transform(document)\n",
    "\n",
    "# Summarizing the Encoded Texts\n",
    "print(\"Encoded Document is:\")\n",
    "print(vector.toarray())"
   ]
  },
  {
   "cell_type": "code",
   "execution_count": 340,
   "id": "7abf5146",
   "metadata": {},
   "outputs": [],
   "source": [
    "a = vectorizer.get_feature_names()"
   ]
  },
  {
   "cell_type": "markdown",
   "id": "2dac3629",
   "metadata": {},
   "source": [
    "## TF-IDF"
   ]
  },
  {
   "cell_type": "code",
   "execution_count": 341,
   "id": "3c37e395",
   "metadata": {},
   "outputs": [],
   "source": [
    "tfidf = TfidfTransformer(use_idf=True, norm='l2', smooth_idf=True)\n",
    "tf = tfidf.fit_transform(vectorizer.fit_transform(document)).toarray()"
   ]
  },
  {
   "cell_type": "code",
   "execution_count": 342,
   "id": "23e72752",
   "metadata": {},
   "outputs": [
    {
     "output_type": "execute_result",
     "data": {
      "text/plain": "       abang     abidi     absen abuabuselaluupdateinfo     acara     aceh  \\\n1   0.000000  0.000000  0.000000               0.000000  0.000000  0.00000   \n2   0.000000  0.032533  0.000000               0.000000  0.000000  0.00000   \n3   0.000000  0.000000  0.000000               0.000000  0.000000  0.00000   \n4   0.000000  0.000000  0.000000               0.000000  0.000000  0.00000   \n5   0.000000  0.000000  0.000000               0.000000  0.000000  0.00000   \n6   0.000000  0.000000  0.000000               0.000000  0.000000  0.00000   \n7   0.000000  0.000000  0.000000               0.000000  0.000000  0.00000   \n8   0.000000  0.000000  0.000000               0.000000  0.000000  0.00000   \n9   0.000000  0.000000  0.000000               0.000000  0.000000  0.00000   \n10  0.000000  0.000000  0.000000               0.000000  0.000000  0.00000   \n11  0.000000  0.000000  0.000000               0.000000  0.000000  0.00000   \n12  0.000000  0.000000  0.000000               0.000000  0.000000  0.00000   \n13  0.000000  0.000000  0.000000               0.000000  0.000000  0.00000   \n14  0.000000  0.000000  0.000000               0.000000  0.000000  0.00000   \n15  0.000000  0.000000  0.000000               0.000000  0.000000  0.10714   \n16  0.000000  0.000000  0.000000               0.000000  0.000000  0.00000   \n17  0.000000  0.000000  0.000000               0.000000  0.000000  0.00000   \n18  0.000000  0.000000  0.038907               0.038907  0.170998  0.00000   \n19  0.048637  0.000000  0.000000               0.000000  0.000000  0.00000   \n20  0.000000  0.000000  0.000000               0.000000  0.048805  0.00000   \n\n         ada    adalah adalahbengkulu      adam  ...     yudha    yudono  \\\n1   0.000000  0.030388        0.00000  0.000000  ...  0.000000  0.051826   \n2   0.000000  0.000000        0.00000  0.000000  ...  0.000000  0.000000   \n3   0.000000  0.000000        0.00000  0.000000  ...  0.000000  0.000000   \n4   0.032080  0.036189        0.00000  0.000000  ...  0.000000  0.000000   \n5   0.028324  0.000000        0.00000  0.000000  ...  0.000000  0.000000   \n6   0.000000  0.071591        0.00000  0.000000  ...  0.000000  0.000000   \n7   0.000000  0.000000        0.00000  0.000000  ...  0.000000  0.000000   \n8   0.000000  0.000000        0.00000  0.000000  ...  0.000000  0.000000   \n9   0.000000  0.000000        0.00000  0.000000  ...  0.000000  0.000000   \n10  0.000000  0.000000        0.00000  0.000000  ...  0.000000  0.000000   \n11  0.030441  0.034340        0.00000  0.029283  ...  0.000000  0.000000   \n12  0.019752  0.044565        0.00000  0.000000  ...  0.000000  0.000000   \n13  0.096444  0.015543        0.00000  0.000000  ...  0.000000  0.000000   \n14  0.000000  0.000000        0.00000  0.000000  ...  0.000000  0.000000   \n15  0.027844  0.000000        0.05357  0.000000  ...  0.000000  0.000000   \n16  0.071979  0.000000        0.00000  0.000000  ...  0.000000  0.000000   \n17  0.025696  0.000000        0.00000  0.000000  ...  0.000000  0.000000   \n18  0.000000  0.022813        0.00000  0.000000  ...  0.000000  0.000000   \n19  0.000000  0.000000        0.00000  0.000000  ...  0.024319  0.000000   \n20  0.028859  0.000000        0.00000  0.000000  ...  0.000000  0.000000   \n\n   yuliyanto    zabina zacharias  zelensky   zendaya     zhang   zhitong  \\\n1   0.000000  0.000000  0.000000  0.000000  0.000000  0.000000  0.000000   \n2   0.000000  0.000000  0.000000  0.000000  0.000000  0.000000  0.000000   \n3   0.000000  0.000000  0.000000  0.000000  0.000000  0.000000  0.000000   \n4   0.000000  0.000000  0.000000  0.000000  0.000000  0.000000  0.000000   \n5   0.000000  0.000000  0.000000  0.000000  0.000000  0.000000  0.000000   \n6   0.000000  0.000000  0.000000  0.000000  0.000000  0.000000  0.000000   \n7   0.000000  0.000000  0.000000  0.000000  0.000000  0.000000  0.000000   \n8   0.000000  0.000000  0.000000  0.000000  0.000000  0.000000  0.000000   \n9   0.000000  0.000000  0.000000  0.000000  0.000000  0.000000  0.000000   \n10  0.000000  0.000000  0.081981  0.000000  0.000000  0.000000  0.000000   \n11  0.000000  0.000000  0.000000  0.087848  0.000000  0.029283  0.029283   \n12  0.000000  0.000000  0.000000  0.000000  0.000000  0.000000  0.000000   \n13  0.026507  0.000000  0.000000  0.000000  0.000000  0.000000  0.000000   \n14  0.000000  0.000000  0.000000  0.000000  0.000000  0.000000  0.000000   \n15  0.000000  0.000000  0.042490  0.000000  0.000000  0.000000  0.000000   \n16  0.000000  0.000000  0.000000  0.000000  0.000000  0.000000  0.000000   \n17  0.000000  0.098877  0.039213  0.000000  0.000000  0.000000  0.000000   \n18  0.000000  0.000000  0.000000  0.000000  0.311254  0.000000  0.000000   \n19  0.000000  0.000000  0.000000  0.000000  0.000000  0.000000  0.000000   \n20  0.000000  0.000000  0.000000  0.000000  0.000000  0.000000  0.000000   \n\n    zhoualfa  \n1   0.000000  \n2   0.000000  \n3   0.000000  \n4   0.000000  \n5   0.000000  \n6   0.000000  \n7   0.000000  \n8   0.032242  \n9   0.000000  \n10  0.000000  \n11  0.000000  \n12  0.000000  \n13  0.000000  \n14  0.000000  \n15  0.000000  \n16  0.000000  \n17  0.000000  \n18  0.000000  \n19  0.000000  \n20  0.000000  \n\n[20 rows x 2558 columns]",
      "text/html": "<div>\n<style scoped>\n    .dataframe tbody tr th:only-of-type {\n        vertical-align: middle;\n    }\n\n    .dataframe tbody tr th {\n        vertical-align: top;\n    }\n\n    .dataframe thead tr th {\n        text-align: left;\n    }\n</style>\n<table border=\"1\" class=\"dataframe\">\n  <thead>\n    <tr>\n      <th></th>\n      <th>abang</th>\n      <th>abidi</th>\n      <th>absen</th>\n      <th>abuabuselaluupdateinfo</th>\n      <th>acara</th>\n      <th>aceh</th>\n      <th>ada</th>\n      <th>adalah</th>\n      <th>adalahbengkulu</th>\n      <th>adam</th>\n      <th>...</th>\n      <th>yudha</th>\n      <th>yudono</th>\n      <th>yuliyanto</th>\n      <th>zabina</th>\n      <th>zacharias</th>\n      <th>zelensky</th>\n      <th>zendaya</th>\n      <th>zhang</th>\n      <th>zhitong</th>\n      <th>zhoualfa</th>\n    </tr>\n  </thead>\n  <tbody>\n    <tr>\n      <th>1</th>\n      <td>0.000000</td>\n      <td>0.000000</td>\n      <td>0.000000</td>\n      <td>0.000000</td>\n      <td>0.000000</td>\n      <td>0.00000</td>\n      <td>0.000000</td>\n      <td>0.030388</td>\n      <td>0.00000</td>\n      <td>0.000000</td>\n      <td>...</td>\n      <td>0.000000</td>\n      <td>0.051826</td>\n      <td>0.000000</td>\n      <td>0.000000</td>\n      <td>0.000000</td>\n      <td>0.000000</td>\n      <td>0.000000</td>\n      <td>0.000000</td>\n      <td>0.000000</td>\n      <td>0.000000</td>\n    </tr>\n    <tr>\n      <th>2</th>\n      <td>0.000000</td>\n      <td>0.032533</td>\n      <td>0.000000</td>\n      <td>0.000000</td>\n      <td>0.000000</td>\n      <td>0.00000</td>\n      <td>0.000000</td>\n      <td>0.000000</td>\n      <td>0.00000</td>\n      <td>0.000000</td>\n      <td>...</td>\n      <td>0.000000</td>\n      <td>0.000000</td>\n      <td>0.000000</td>\n      <td>0.000000</td>\n      <td>0.000000</td>\n      <td>0.000000</td>\n      <td>0.000000</td>\n      <td>0.000000</td>\n      <td>0.000000</td>\n      <td>0.000000</td>\n    </tr>\n    <tr>\n      <th>3</th>\n      <td>0.000000</td>\n      <td>0.000000</td>\n      <td>0.000000</td>\n      <td>0.000000</td>\n      <td>0.000000</td>\n      <td>0.00000</td>\n      <td>0.000000</td>\n      <td>0.000000</td>\n      <td>0.00000</td>\n      <td>0.000000</td>\n      <td>...</td>\n      <td>0.000000</td>\n      <td>0.000000</td>\n      <td>0.000000</td>\n      <td>0.000000</td>\n      <td>0.000000</td>\n      <td>0.000000</td>\n      <td>0.000000</td>\n      <td>0.000000</td>\n      <td>0.000000</td>\n      <td>0.000000</td>\n    </tr>\n    <tr>\n      <th>4</th>\n      <td>0.000000</td>\n      <td>0.000000</td>\n      <td>0.000000</td>\n      <td>0.000000</td>\n      <td>0.000000</td>\n      <td>0.00000</td>\n      <td>0.032080</td>\n      <td>0.036189</td>\n      <td>0.00000</td>\n      <td>0.000000</td>\n      <td>...</td>\n      <td>0.000000</td>\n      <td>0.000000</td>\n      <td>0.000000</td>\n      <td>0.000000</td>\n      <td>0.000000</td>\n      <td>0.000000</td>\n      <td>0.000000</td>\n      <td>0.000000</td>\n      <td>0.000000</td>\n      <td>0.000000</td>\n    </tr>\n    <tr>\n      <th>5</th>\n      <td>0.000000</td>\n      <td>0.000000</td>\n      <td>0.000000</td>\n      <td>0.000000</td>\n      <td>0.000000</td>\n      <td>0.00000</td>\n      <td>0.028324</td>\n      <td>0.000000</td>\n      <td>0.00000</td>\n      <td>0.000000</td>\n      <td>...</td>\n      <td>0.000000</td>\n      <td>0.000000</td>\n      <td>0.000000</td>\n      <td>0.000000</td>\n      <td>0.000000</td>\n      <td>0.000000</td>\n      <td>0.000000</td>\n      <td>0.000000</td>\n      <td>0.000000</td>\n      <td>0.000000</td>\n    </tr>\n    <tr>\n      <th>6</th>\n      <td>0.000000</td>\n      <td>0.000000</td>\n      <td>0.000000</td>\n      <td>0.000000</td>\n      <td>0.000000</td>\n      <td>0.00000</td>\n      <td>0.000000</td>\n      <td>0.071591</td>\n      <td>0.00000</td>\n      <td>0.000000</td>\n      <td>...</td>\n      <td>0.000000</td>\n      <td>0.000000</td>\n      <td>0.000000</td>\n      <td>0.000000</td>\n      <td>0.000000</td>\n      <td>0.000000</td>\n      <td>0.000000</td>\n      <td>0.000000</td>\n      <td>0.000000</td>\n      <td>0.000000</td>\n    </tr>\n    <tr>\n      <th>7</th>\n      <td>0.000000</td>\n      <td>0.000000</td>\n      <td>0.000000</td>\n      <td>0.000000</td>\n      <td>0.000000</td>\n      <td>0.00000</td>\n      <td>0.000000</td>\n      <td>0.000000</td>\n      <td>0.00000</td>\n      <td>0.000000</td>\n      <td>...</td>\n      <td>0.000000</td>\n      <td>0.000000</td>\n      <td>0.000000</td>\n      <td>0.000000</td>\n      <td>0.000000</td>\n      <td>0.000000</td>\n      <td>0.000000</td>\n      <td>0.000000</td>\n      <td>0.000000</td>\n      <td>0.000000</td>\n    </tr>\n    <tr>\n      <th>8</th>\n      <td>0.000000</td>\n      <td>0.000000</td>\n      <td>0.000000</td>\n      <td>0.000000</td>\n      <td>0.000000</td>\n      <td>0.00000</td>\n      <td>0.000000</td>\n      <td>0.000000</td>\n      <td>0.00000</td>\n      <td>0.000000</td>\n      <td>...</td>\n      <td>0.000000</td>\n      <td>0.000000</td>\n      <td>0.000000</td>\n      <td>0.000000</td>\n      <td>0.000000</td>\n      <td>0.000000</td>\n      <td>0.000000</td>\n      <td>0.000000</td>\n      <td>0.000000</td>\n      <td>0.032242</td>\n    </tr>\n    <tr>\n      <th>9</th>\n      <td>0.000000</td>\n      <td>0.000000</td>\n      <td>0.000000</td>\n      <td>0.000000</td>\n      <td>0.000000</td>\n      <td>0.00000</td>\n      <td>0.000000</td>\n      <td>0.000000</td>\n      <td>0.00000</td>\n      <td>0.000000</td>\n      <td>...</td>\n      <td>0.000000</td>\n      <td>0.000000</td>\n      <td>0.000000</td>\n      <td>0.000000</td>\n      <td>0.000000</td>\n      <td>0.000000</td>\n      <td>0.000000</td>\n      <td>0.000000</td>\n      <td>0.000000</td>\n      <td>0.000000</td>\n    </tr>\n    <tr>\n      <th>10</th>\n      <td>0.000000</td>\n      <td>0.000000</td>\n      <td>0.000000</td>\n      <td>0.000000</td>\n      <td>0.000000</td>\n      <td>0.00000</td>\n      <td>0.000000</td>\n      <td>0.000000</td>\n      <td>0.00000</td>\n      <td>0.000000</td>\n      <td>...</td>\n      <td>0.000000</td>\n      <td>0.000000</td>\n      <td>0.000000</td>\n      <td>0.000000</td>\n      <td>0.081981</td>\n      <td>0.000000</td>\n      <td>0.000000</td>\n      <td>0.000000</td>\n      <td>0.000000</td>\n      <td>0.000000</td>\n    </tr>\n    <tr>\n      <th>11</th>\n      <td>0.000000</td>\n      <td>0.000000</td>\n      <td>0.000000</td>\n      <td>0.000000</td>\n      <td>0.000000</td>\n      <td>0.00000</td>\n      <td>0.030441</td>\n      <td>0.034340</td>\n      <td>0.00000</td>\n      <td>0.029283</td>\n      <td>...</td>\n      <td>0.000000</td>\n      <td>0.000000</td>\n      <td>0.000000</td>\n      <td>0.000000</td>\n      <td>0.000000</td>\n      <td>0.087848</td>\n      <td>0.000000</td>\n      <td>0.029283</td>\n      <td>0.029283</td>\n      <td>0.000000</td>\n    </tr>\n    <tr>\n      <th>12</th>\n      <td>0.000000</td>\n      <td>0.000000</td>\n      <td>0.000000</td>\n      <td>0.000000</td>\n      <td>0.000000</td>\n      <td>0.00000</td>\n      <td>0.019752</td>\n      <td>0.044565</td>\n      <td>0.00000</td>\n      <td>0.000000</td>\n      <td>...</td>\n      <td>0.000000</td>\n      <td>0.000000</td>\n      <td>0.000000</td>\n      <td>0.000000</td>\n      <td>0.000000</td>\n      <td>0.000000</td>\n      <td>0.000000</td>\n      <td>0.000000</td>\n      <td>0.000000</td>\n      <td>0.000000</td>\n    </tr>\n    <tr>\n      <th>13</th>\n      <td>0.000000</td>\n      <td>0.000000</td>\n      <td>0.000000</td>\n      <td>0.000000</td>\n      <td>0.000000</td>\n      <td>0.00000</td>\n      <td>0.096444</td>\n      <td>0.015543</td>\n      <td>0.00000</td>\n      <td>0.000000</td>\n      <td>...</td>\n      <td>0.000000</td>\n      <td>0.000000</td>\n      <td>0.026507</td>\n      <td>0.000000</td>\n      <td>0.000000</td>\n      <td>0.000000</td>\n      <td>0.000000</td>\n      <td>0.000000</td>\n      <td>0.000000</td>\n      <td>0.000000</td>\n    </tr>\n    <tr>\n      <th>14</th>\n      <td>0.000000</td>\n      <td>0.000000</td>\n      <td>0.000000</td>\n      <td>0.000000</td>\n      <td>0.000000</td>\n      <td>0.00000</td>\n      <td>0.000000</td>\n      <td>0.000000</td>\n      <td>0.00000</td>\n      <td>0.000000</td>\n      <td>...</td>\n      <td>0.000000</td>\n      <td>0.000000</td>\n      <td>0.000000</td>\n      <td>0.000000</td>\n      <td>0.000000</td>\n      <td>0.000000</td>\n      <td>0.000000</td>\n      <td>0.000000</td>\n      <td>0.000000</td>\n      <td>0.000000</td>\n    </tr>\n    <tr>\n      <th>15</th>\n      <td>0.000000</td>\n      <td>0.000000</td>\n      <td>0.000000</td>\n      <td>0.000000</td>\n      <td>0.000000</td>\n      <td>0.10714</td>\n      <td>0.027844</td>\n      <td>0.000000</td>\n      <td>0.05357</td>\n      <td>0.000000</td>\n      <td>...</td>\n      <td>0.000000</td>\n      <td>0.000000</td>\n      <td>0.000000</td>\n      <td>0.000000</td>\n      <td>0.042490</td>\n      <td>0.000000</td>\n      <td>0.000000</td>\n      <td>0.000000</td>\n      <td>0.000000</td>\n      <td>0.000000</td>\n    </tr>\n    <tr>\n      <th>16</th>\n      <td>0.000000</td>\n      <td>0.000000</td>\n      <td>0.000000</td>\n      <td>0.000000</td>\n      <td>0.000000</td>\n      <td>0.00000</td>\n      <td>0.071979</td>\n      <td>0.000000</td>\n      <td>0.00000</td>\n      <td>0.000000</td>\n      <td>...</td>\n      <td>0.000000</td>\n      <td>0.000000</td>\n      <td>0.000000</td>\n      <td>0.000000</td>\n      <td>0.000000</td>\n      <td>0.000000</td>\n      <td>0.000000</td>\n      <td>0.000000</td>\n      <td>0.000000</td>\n      <td>0.000000</td>\n    </tr>\n    <tr>\n      <th>17</th>\n      <td>0.000000</td>\n      <td>0.000000</td>\n      <td>0.000000</td>\n      <td>0.000000</td>\n      <td>0.000000</td>\n      <td>0.00000</td>\n      <td>0.025696</td>\n      <td>0.000000</td>\n      <td>0.00000</td>\n      <td>0.000000</td>\n      <td>...</td>\n      <td>0.000000</td>\n      <td>0.000000</td>\n      <td>0.000000</td>\n      <td>0.098877</td>\n      <td>0.039213</td>\n      <td>0.000000</td>\n      <td>0.000000</td>\n      <td>0.000000</td>\n      <td>0.000000</td>\n      <td>0.000000</td>\n    </tr>\n    <tr>\n      <th>18</th>\n      <td>0.000000</td>\n      <td>0.000000</td>\n      <td>0.038907</td>\n      <td>0.038907</td>\n      <td>0.170998</td>\n      <td>0.00000</td>\n      <td>0.000000</td>\n      <td>0.022813</td>\n      <td>0.00000</td>\n      <td>0.000000</td>\n      <td>...</td>\n      <td>0.000000</td>\n      <td>0.000000</td>\n      <td>0.000000</td>\n      <td>0.000000</td>\n      <td>0.000000</td>\n      <td>0.000000</td>\n      <td>0.311254</td>\n      <td>0.000000</td>\n      <td>0.000000</td>\n      <td>0.000000</td>\n    </tr>\n    <tr>\n      <th>19</th>\n      <td>0.048637</td>\n      <td>0.000000</td>\n      <td>0.000000</td>\n      <td>0.000000</td>\n      <td>0.000000</td>\n      <td>0.00000</td>\n      <td>0.000000</td>\n      <td>0.000000</td>\n      <td>0.00000</td>\n      <td>0.000000</td>\n      <td>...</td>\n      <td>0.024319</td>\n      <td>0.000000</td>\n      <td>0.000000</td>\n      <td>0.000000</td>\n      <td>0.000000</td>\n      <td>0.000000</td>\n      <td>0.000000</td>\n      <td>0.000000</td>\n      <td>0.000000</td>\n      <td>0.000000</td>\n    </tr>\n    <tr>\n      <th>20</th>\n      <td>0.000000</td>\n      <td>0.000000</td>\n      <td>0.000000</td>\n      <td>0.000000</td>\n      <td>0.048805</td>\n      <td>0.00000</td>\n      <td>0.028859</td>\n      <td>0.000000</td>\n      <td>0.00000</td>\n      <td>0.000000</td>\n      <td>...</td>\n      <td>0.000000</td>\n      <td>0.000000</td>\n      <td>0.000000</td>\n      <td>0.000000</td>\n      <td>0.000000</td>\n      <td>0.000000</td>\n      <td>0.000000</td>\n      <td>0.000000</td>\n      <td>0.000000</td>\n      <td>0.000000</td>\n    </tr>\n  </tbody>\n</table>\n<p>20 rows × 2558 columns</p>\n</div>"
     },
     "metadata": {},
     "execution_count": 342
    }
   ],
   "source": [
    "dfb = pd.DataFrame(data=tf,index=list(range(1, len(tf[:,1])+1, )),columns=[a])\n",
    "# dfb"
   ]
  },
  {
   "cell_type": "markdown",
   "id": "36b60c23",
   "metadata": {},
   "source": [
    "## Convert File to CSV"
   ]
  },
  {
   "cell_type": "code",
   "execution_count": 343,
   "id": "58075c85",
   "metadata": {},
   "outputs": [],
   "source": [
    "dfb.to_csv(\"TF-IDF.csv\")"
   ]
  }
 ],
 "metadata": {
  "kernelspec": {
   "display_name": "Python 3 (ipykernel)",
   "language": "python",
   "name": "python3"
  },
  "language_info": {
   "codemirror_mode": {
    "name": "ipython",
    "version": 3
   },
   "file_extension": ".py",
   "mimetype": "text/x-python",
   "name": "python",
   "nbconvert_exporter": "python",
   "pygments_lexer": "ipython3",
   "version": "3.9.5-final"
  }
 },
 "nbformat": 4,
 "nbformat_minor": 5
}